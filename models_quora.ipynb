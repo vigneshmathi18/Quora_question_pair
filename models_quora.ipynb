{
 "cells": [
  {
   "cell_type": "code",
   "execution_count": 4,
   "metadata": {
    "colab": {},
    "colab_type": "code",
    "id": "c7hfEN-8_uGf"
   },
   "outputs": [],
   "source": [
    "import pandas as pd\n",
    "import matplotlib.pyplot as plt\n",
    "import re\n",
    "import time\n",
    "import warnings\n",
    "import sqlite3\n",
    "from sqlalchemy import create_engine # database connection\n",
    "import csv\n",
    "import os,pickle\n",
    "warnings.filterwarnings(\"ignore\")\n",
    "import datetime as dt\n",
    "import numpy as np\n",
    "from nltk.corpus import stopwords\n",
    "from sklearn.preprocessing import normalize\n",
    "from sklearn.feature_extraction.text import CountVectorizer\n",
    "from sklearn.manifold import TSNE\n",
    "import seaborn as sns\n",
    "from sklearn.neighbors import KNeighborsClassifier\n",
    "from sklearn.metrics import confusion_matrix\n",
    "from sklearn.metrics import accuracy_score, log_loss\n",
    "from sklearn.feature_extraction.text import TfidfVectorizer\n",
    "from collections import Counter\n",
    "from scipy.sparse import hstack\n",
    "from sklearn.svm import SVC\n",
    "from sklearn.model_selection import StratifiedKFold \n",
    "from collections import Counter, defaultdict\n",
    "from sklearn.calibration import CalibratedClassifierCV\n",
    "from sklearn.naive_bayes import MultinomialNB\n",
    "from sklearn.naive_bayes import GaussianNB\n",
    "from sklearn.model_selection import train_test_split\n",
    "from sklearn.model_selection import GridSearchCV\n",
    "import math\n",
    "from sklearn.linear_model import SGDClassifier\n",
    "from sklearn.metrics import normalized_mutual_info_score\n",
    "from sklearn.ensemble import RandomForestClassifier\n",
    "\n",
    "from sklearn.model_selection import cross_val_score\n",
    "from sklearn.linear_model import SGDClassifier\n",
    "from mlxtend.classifier import StackingClassifier\n",
    "\n",
    "from sklearn import model_selection\n",
    "from sklearn.linear_model import LogisticRegression\n",
    "from sklearn.metrics import precision_recall_curve, auc, roc_curve"
   ]
  },
  {
   "cell_type": "markdown",
   "metadata": {
    "colab_type": "text",
    "id": "dJGnVziug-h6"
   },
   "source": [
    "# TFIDF Weighted GLOVE"
   ]
  },
  {
   "cell_type": "code",
   "execution_count": null,
   "metadata": {
    "colab": {
     "base_uri": "https://localhost:8080/",
     "height": 85
    },
    "colab_type": "code",
    "executionInfo": {
     "elapsed": 15452,
     "status": "ok",
     "timestamp": 1600608451319,
     "user": {
      "displayName": "Arun Mohan",
      "photoUrl": "",
      "userId": "03613179849735053887"
     },
     "user_tz": 0
    },
    "id": "tgIiqbWTAas3",
    "outputId": "74a00f93-1268-470c-d11d-195686d2f451"
   },
   "outputs": [
    {
     "name": "stdout",
     "output_type": "stream",
     "text": [
      "(70000, 218)\n",
      "(30000, 218)\n",
      "(70000, 1)\n",
      "(30000, 1)\n"
     ]
    }
   ],
   "source": [
    "#loading tfidf weighted glove\n",
    "X_train = pd.read_csv('data/train_data.csv')\n",
    "X_test = pd.read_csv('data/test_data.csv')\n",
    "y_train = pd.read_csv('data/train_y.csv')\n",
    "y_test = pd.read_csv('data/test_y.csv')\n",
    "X_train = X_train.drop(columns=['q1_glove','q2_glove'])\n",
    "X_test = X_test.drop(columns=['q1_glove','q2_glove'])\n",
    "print(X_train.shape)\n",
    "print(X_test.shape)\n",
    "print(y_train.shape)\n",
    "print(y_test.shape)"
   ]
  },
  {
   "cell_type": "code",
   "execution_count": null,
   "metadata": {
    "colab": {
     "base_uri": "https://localhost:8080/",
     "height": 208
    },
    "colab_type": "code",
    "executionInfo": {
     "elapsed": 14556,
     "status": "ok",
     "timestamp": 1600608451320,
     "user": {
      "displayName": "Arun Mohan",
      "photoUrl": "",
      "userId": "03613179849735053887"
     },
     "user_tz": 0
    },
    "id": "VXDeDLTmBFxZ",
    "outputId": "77766d5a-2526-4bd1-8084-ec1107792971"
   },
   "outputs": [
    {
     "data": {
      "text/html": [
       "<div>\n",
       "<style scoped>\n",
       "    .dataframe tbody tr th:only-of-type {\n",
       "        vertical-align: middle;\n",
       "    }\n",
       "\n",
       "    .dataframe tbody tr th {\n",
       "        vertical-align: top;\n",
       "    }\n",
       "\n",
       "    .dataframe thead th {\n",
       "        text-align: right;\n",
       "    }\n",
       "</style>\n",
       "<table border=\"1\" class=\"dataframe\">\n",
       "  <thead>\n",
       "    <tr style=\"text-align: right;\">\n",
       "      <th></th>\n",
       "      <th>freq_qid1</th>\n",
       "      <th>freq_qid2</th>\n",
       "      <th>q1len</th>\n",
       "      <th>q2len</th>\n",
       "      <th>q1_n_words</th>\n",
       "      <th>q2_n_words</th>\n",
       "      <th>word_common</th>\n",
       "      <th>word_total</th>\n",
       "      <th>word_share</th>\n",
       "      <th>freq_q1+q2</th>\n",
       "      <th>freq_q1-q2</th>\n",
       "      <th>cwc_min</th>\n",
       "      <th>cwc_max</th>\n",
       "      <th>csc_min</th>\n",
       "      <th>csc_max</th>\n",
       "      <th>ctc_min</th>\n",
       "      <th>ctc_max</th>\n",
       "      <th>last_word_eq</th>\n",
       "      <th>first_word_eq</th>\n",
       "      <th>abs_len_diff</th>\n",
       "      <th>mean_len</th>\n",
       "      <th>token_set_ratio</th>\n",
       "      <th>token_sort_ratio</th>\n",
       "      <th>fuzz_ratio</th>\n",
       "      <th>fuzz_partial_ratio</th>\n",
       "      <th>longest_substr_ratio</th>\n",
       "      <th>g_0</th>\n",
       "      <th>g_1</th>\n",
       "      <th>g_2</th>\n",
       "      <th>g_3</th>\n",
       "      <th>g_4</th>\n",
       "      <th>g_5</th>\n",
       "      <th>g_6</th>\n",
       "      <th>g_7</th>\n",
       "      <th>g_8</th>\n",
       "      <th>g_9</th>\n",
       "      <th>g_10</th>\n",
       "      <th>g_11</th>\n",
       "      <th>g_12</th>\n",
       "      <th>g_13</th>\n",
       "      <th>...</th>\n",
       "      <th>g_152</th>\n",
       "      <th>g_153</th>\n",
       "      <th>g_154</th>\n",
       "      <th>g_155</th>\n",
       "      <th>g_156</th>\n",
       "      <th>g_157</th>\n",
       "      <th>g_158</th>\n",
       "      <th>g_159</th>\n",
       "      <th>g_160</th>\n",
       "      <th>g_161</th>\n",
       "      <th>g_162</th>\n",
       "      <th>g_163</th>\n",
       "      <th>g_164</th>\n",
       "      <th>g_165</th>\n",
       "      <th>g_166</th>\n",
       "      <th>g_167</th>\n",
       "      <th>g_168</th>\n",
       "      <th>g_169</th>\n",
       "      <th>g_170</th>\n",
       "      <th>g_171</th>\n",
       "      <th>g_172</th>\n",
       "      <th>g_173</th>\n",
       "      <th>g_174</th>\n",
       "      <th>g_175</th>\n",
       "      <th>g_176</th>\n",
       "      <th>g_177</th>\n",
       "      <th>g_178</th>\n",
       "      <th>g_179</th>\n",
       "      <th>g_180</th>\n",
       "      <th>g_181</th>\n",
       "      <th>g_182</th>\n",
       "      <th>g_183</th>\n",
       "      <th>g_184</th>\n",
       "      <th>g_185</th>\n",
       "      <th>g_186</th>\n",
       "      <th>g_187</th>\n",
       "      <th>g_188</th>\n",
       "      <th>g_189</th>\n",
       "      <th>g_190</th>\n",
       "      <th>g_191</th>\n",
       "    </tr>\n",
       "  </thead>\n",
       "  <tbody>\n",
       "    <tr>\n",
       "      <th>0</th>\n",
       "      <td>1</td>\n",
       "      <td>1</td>\n",
       "      <td>54</td>\n",
       "      <td>56</td>\n",
       "      <td>10</td>\n",
       "      <td>10</td>\n",
       "      <td>6.0</td>\n",
       "      <td>19.0</td>\n",
       "      <td>0.315789</td>\n",
       "      <td>2</td>\n",
       "      <td>0</td>\n",
       "      <td>0.749981</td>\n",
       "      <td>0.749981</td>\n",
       "      <td>0.599988</td>\n",
       "      <td>0.499992</td>\n",
       "      <td>0.599994</td>\n",
       "      <td>0.599994</td>\n",
       "      <td>0.0</td>\n",
       "      <td>1.0</td>\n",
       "      <td>0.0</td>\n",
       "      <td>10.0</td>\n",
       "      <td>87</td>\n",
       "      <td>74</td>\n",
       "      <td>80</td>\n",
       "      <td>80</td>\n",
       "      <td>0.672727</td>\n",
       "      <td>8.620377</td>\n",
       "      <td>-1.614727</td>\n",
       "      <td>-2.521583</td>\n",
       "      <td>-1.531998</td>\n",
       "      <td>2.092236</td>\n",
       "      <td>0.767564</td>\n",
       "      <td>5.339287</td>\n",
       "      <td>3.058473</td>\n",
       "      <td>10.082106</td>\n",
       "      <td>11.054510</td>\n",
       "      <td>-3.507912</td>\n",
       "      <td>-3.432895</td>\n",
       "      <td>-0.067182</td>\n",
       "      <td>-10.681097</td>\n",
       "      <td>...</td>\n",
       "      <td>10.089836</td>\n",
       "      <td>3.936834</td>\n",
       "      <td>-5.538895</td>\n",
       "      <td>5.563270</td>\n",
       "      <td>8.331845</td>\n",
       "      <td>-7.516664</td>\n",
       "      <td>4.947571</td>\n",
       "      <td>0.551604</td>\n",
       "      <td>2.226217</td>\n",
       "      <td>-5.257148</td>\n",
       "      <td>4.661740</td>\n",
       "      <td>-4.827672</td>\n",
       "      <td>-2.469894</td>\n",
       "      <td>-2.716766</td>\n",
       "      <td>-4.011982</td>\n",
       "      <td>-1.669388</td>\n",
       "      <td>2.131926</td>\n",
       "      <td>-1.406734</td>\n",
       "      <td>-1.637095</td>\n",
       "      <td>0.843460</td>\n",
       "      <td>9.596346</td>\n",
       "      <td>-8.810573</td>\n",
       "      <td>-0.189235</td>\n",
       "      <td>0.185671</td>\n",
       "      <td>-0.870233</td>\n",
       "      <td>-8.293420</td>\n",
       "      <td>-5.647267</td>\n",
       "      <td>5.515711</td>\n",
       "      <td>3.732003</td>\n",
       "      <td>-7.587928</td>\n",
       "      <td>-2.701354</td>\n",
       "      <td>2.716441</td>\n",
       "      <td>-0.510052</td>\n",
       "      <td>6.447781</td>\n",
       "      <td>-2.949746</td>\n",
       "      <td>-0.962468</td>\n",
       "      <td>2.531881</td>\n",
       "      <td>6.010862</td>\n",
       "      <td>1.527958</td>\n",
       "      <td>1.486945</td>\n",
       "    </tr>\n",
       "    <tr>\n",
       "      <th>1</th>\n",
       "      <td>1</td>\n",
       "      <td>1</td>\n",
       "      <td>56</td>\n",
       "      <td>45</td>\n",
       "      <td>9</td>\n",
       "      <td>8</td>\n",
       "      <td>8.0</td>\n",
       "      <td>17.0</td>\n",
       "      <td>0.470588</td>\n",
       "      <td>2</td>\n",
       "      <td>0</td>\n",
       "      <td>0.999950</td>\n",
       "      <td>0.666644</td>\n",
       "      <td>0.999983</td>\n",
       "      <td>0.999983</td>\n",
       "      <td>0.999988</td>\n",
       "      <td>0.888879</td>\n",
       "      <td>1.0</td>\n",
       "      <td>1.0</td>\n",
       "      <td>1.0</td>\n",
       "      <td>8.5</td>\n",
       "      <td>100</td>\n",
       "      <td>89</td>\n",
       "      <td>89</td>\n",
       "      <td>89</td>\n",
       "      <td>0.826087</td>\n",
       "      <td>-0.976643</td>\n",
       "      <td>-2.725152</td>\n",
       "      <td>2.448420</td>\n",
       "      <td>-6.019244</td>\n",
       "      <td>10.633596</td>\n",
       "      <td>-0.612285</td>\n",
       "      <td>2.808925</td>\n",
       "      <td>2.506091</td>\n",
       "      <td>3.439625</td>\n",
       "      <td>2.748850</td>\n",
       "      <td>-2.935436</td>\n",
       "      <td>5.436929</td>\n",
       "      <td>-2.523156</td>\n",
       "      <td>6.865408</td>\n",
       "      <td>...</td>\n",
       "      <td>4.418640</td>\n",
       "      <td>3.693307</td>\n",
       "      <td>1.570967</td>\n",
       "      <td>5.141033</td>\n",
       "      <td>10.051354</td>\n",
       "      <td>2.914478</td>\n",
       "      <td>3.694912</td>\n",
       "      <td>1.172728</td>\n",
       "      <td>2.013224</td>\n",
       "      <td>-3.563407</td>\n",
       "      <td>4.454383</td>\n",
       "      <td>-6.441067</td>\n",
       "      <td>2.158532</td>\n",
       "      <td>-0.239046</td>\n",
       "      <td>-6.496768</td>\n",
       "      <td>-3.577290</td>\n",
       "      <td>5.334235</td>\n",
       "      <td>0.750009</td>\n",
       "      <td>3.977217</td>\n",
       "      <td>-3.131306</td>\n",
       "      <td>6.806299</td>\n",
       "      <td>-5.550982</td>\n",
       "      <td>-5.664017</td>\n",
       "      <td>-4.400164</td>\n",
       "      <td>-1.581056</td>\n",
       "      <td>3.991659</td>\n",
       "      <td>1.210462</td>\n",
       "      <td>0.192518</td>\n",
       "      <td>3.626633</td>\n",
       "      <td>-2.551011</td>\n",
       "      <td>3.914964</td>\n",
       "      <td>0.328768</td>\n",
       "      <td>-2.454020</td>\n",
       "      <td>0.270393</td>\n",
       "      <td>-9.784351</td>\n",
       "      <td>-0.421203</td>\n",
       "      <td>2.982829</td>\n",
       "      <td>3.221098</td>\n",
       "      <td>-0.517070</td>\n",
       "      <td>7.156083</td>\n",
       "    </tr>\n",
       "    <tr>\n",
       "      <th>2</th>\n",
       "      <td>4</td>\n",
       "      <td>3</td>\n",
       "      <td>111</td>\n",
       "      <td>96</td>\n",
       "      <td>19</td>\n",
       "      <td>17</td>\n",
       "      <td>8.0</td>\n",
       "      <td>34.0</td>\n",
       "      <td>0.235294</td>\n",
       "      <td>7</td>\n",
       "      <td>1</td>\n",
       "      <td>0.444440</td>\n",
       "      <td>0.444440</td>\n",
       "      <td>0.571420</td>\n",
       "      <td>0.444440</td>\n",
       "      <td>0.470585</td>\n",
       "      <td>0.421050</td>\n",
       "      <td>0.0</td>\n",
       "      <td>0.0</td>\n",
       "      <td>2.0</td>\n",
       "      <td>18.0</td>\n",
       "      <td>65</td>\n",
       "      <td>60</td>\n",
       "      <td>27</td>\n",
       "      <td>43</td>\n",
       "      <td>0.216495</td>\n",
       "      <td>1.364633</td>\n",
       "      <td>-0.612766</td>\n",
       "      <td>-0.917767</td>\n",
       "      <td>4.277427</td>\n",
       "      <td>10.759067</td>\n",
       "      <td>7.220730</td>\n",
       "      <td>2.623590</td>\n",
       "      <td>2.577329</td>\n",
       "      <td>10.591618</td>\n",
       "      <td>13.758568</td>\n",
       "      <td>-0.620000</td>\n",
       "      <td>2.298428</td>\n",
       "      <td>-1.027227</td>\n",
       "      <td>-4.799027</td>\n",
       "      <td>...</td>\n",
       "      <td>5.248811</td>\n",
       "      <td>7.349653</td>\n",
       "      <td>-5.088327</td>\n",
       "      <td>5.053706</td>\n",
       "      <td>7.250805</td>\n",
       "      <td>0.519352</td>\n",
       "      <td>1.788629</td>\n",
       "      <td>0.233627</td>\n",
       "      <td>7.627815</td>\n",
       "      <td>-0.252892</td>\n",
       "      <td>11.181622</td>\n",
       "      <td>-7.246195</td>\n",
       "      <td>-1.489986</td>\n",
       "      <td>3.130861</td>\n",
       "      <td>-1.450135</td>\n",
       "      <td>-1.716376</td>\n",
       "      <td>7.907278</td>\n",
       "      <td>0.924074</td>\n",
       "      <td>-4.189400</td>\n",
       "      <td>-1.036867</td>\n",
       "      <td>6.969816</td>\n",
       "      <td>-9.251938</td>\n",
       "      <td>-0.795776</td>\n",
       "      <td>-0.299615</td>\n",
       "      <td>1.590454</td>\n",
       "      <td>-3.170906</td>\n",
       "      <td>-1.801627</td>\n",
       "      <td>0.208262</td>\n",
       "      <td>5.480814</td>\n",
       "      <td>-4.081170</td>\n",
       "      <td>-2.047053</td>\n",
       "      <td>-4.732654</td>\n",
       "      <td>-0.826601</td>\n",
       "      <td>6.169578</td>\n",
       "      <td>0.445108</td>\n",
       "      <td>-2.095889</td>\n",
       "      <td>4.520428</td>\n",
       "      <td>-1.048259</td>\n",
       "      <td>0.624426</td>\n",
       "      <td>6.458432</td>\n",
       "    </tr>\n",
       "  </tbody>\n",
       "</table>\n",
       "<p>3 rows × 218 columns</p>\n",
       "</div>"
      ],
      "text/plain": [
       "   freq_qid1  freq_qid2  q1len  q2len  ...     g_188     g_189     g_190     g_191\n",
       "0          1          1     54     56  ...  2.531881  6.010862  1.527958  1.486945\n",
       "1          1          1     56     45  ...  2.982829  3.221098 -0.517070  7.156083\n",
       "2          4          3    111     96  ...  4.520428 -1.048259  0.624426  6.458432\n",
       "\n",
       "[3 rows x 218 columns]"
      ]
     },
     "execution_count": 5,
     "metadata": {
      "tags": []
     },
     "output_type": "execute_result"
    }
   ],
   "source": [
    "X_train.head(3)"
   ]
  },
  {
   "cell_type": "code",
   "execution_count": null,
   "metadata": {
    "colab": {
     "base_uri": "https://localhost:8080/",
     "height": 208
    },
    "colab_type": "code",
    "executionInfo": {
     "elapsed": 14011,
     "status": "ok",
     "timestamp": 1600608451321,
     "user": {
      "displayName": "Arun Mohan",
      "photoUrl": "",
      "userId": "03613179849735053887"
     },
     "user_tz": 0
    },
    "id": "bi-zG1aCGlO_",
    "outputId": "6ffdd76a-89b7-47c8-c0a2-5b72996a6427"
   },
   "outputs": [
    {
     "data": {
      "text/html": [
       "<div>\n",
       "<style scoped>\n",
       "    .dataframe tbody tr th:only-of-type {\n",
       "        vertical-align: middle;\n",
       "    }\n",
       "\n",
       "    .dataframe tbody tr th {\n",
       "        vertical-align: top;\n",
       "    }\n",
       "\n",
       "    .dataframe thead th {\n",
       "        text-align: right;\n",
       "    }\n",
       "</style>\n",
       "<table border=\"1\" class=\"dataframe\">\n",
       "  <thead>\n",
       "    <tr style=\"text-align: right;\">\n",
       "      <th></th>\n",
       "      <th>freq_qid1</th>\n",
       "      <th>freq_qid2</th>\n",
       "      <th>q1len</th>\n",
       "      <th>q2len</th>\n",
       "      <th>q1_n_words</th>\n",
       "      <th>q2_n_words</th>\n",
       "      <th>word_common</th>\n",
       "      <th>word_total</th>\n",
       "      <th>word_share</th>\n",
       "      <th>freq_q1+q2</th>\n",
       "      <th>freq_q1-q2</th>\n",
       "      <th>cwc_min</th>\n",
       "      <th>cwc_max</th>\n",
       "      <th>csc_min</th>\n",
       "      <th>csc_max</th>\n",
       "      <th>ctc_min</th>\n",
       "      <th>ctc_max</th>\n",
       "      <th>last_word_eq</th>\n",
       "      <th>first_word_eq</th>\n",
       "      <th>abs_len_diff</th>\n",
       "      <th>mean_len</th>\n",
       "      <th>token_set_ratio</th>\n",
       "      <th>token_sort_ratio</th>\n",
       "      <th>fuzz_ratio</th>\n",
       "      <th>fuzz_partial_ratio</th>\n",
       "      <th>longest_substr_ratio</th>\n",
       "      <th>g_0</th>\n",
       "      <th>g_1</th>\n",
       "      <th>g_2</th>\n",
       "      <th>g_3</th>\n",
       "      <th>g_4</th>\n",
       "      <th>g_5</th>\n",
       "      <th>g_6</th>\n",
       "      <th>g_7</th>\n",
       "      <th>g_8</th>\n",
       "      <th>g_9</th>\n",
       "      <th>g_10</th>\n",
       "      <th>g_11</th>\n",
       "      <th>g_12</th>\n",
       "      <th>g_13</th>\n",
       "      <th>...</th>\n",
       "      <th>g_152</th>\n",
       "      <th>g_153</th>\n",
       "      <th>g_154</th>\n",
       "      <th>g_155</th>\n",
       "      <th>g_156</th>\n",
       "      <th>g_157</th>\n",
       "      <th>g_158</th>\n",
       "      <th>g_159</th>\n",
       "      <th>g_160</th>\n",
       "      <th>g_161</th>\n",
       "      <th>g_162</th>\n",
       "      <th>g_163</th>\n",
       "      <th>g_164</th>\n",
       "      <th>g_165</th>\n",
       "      <th>g_166</th>\n",
       "      <th>g_167</th>\n",
       "      <th>g_168</th>\n",
       "      <th>g_169</th>\n",
       "      <th>g_170</th>\n",
       "      <th>g_171</th>\n",
       "      <th>g_172</th>\n",
       "      <th>g_173</th>\n",
       "      <th>g_174</th>\n",
       "      <th>g_175</th>\n",
       "      <th>g_176</th>\n",
       "      <th>g_177</th>\n",
       "      <th>g_178</th>\n",
       "      <th>g_179</th>\n",
       "      <th>g_180</th>\n",
       "      <th>g_181</th>\n",
       "      <th>g_182</th>\n",
       "      <th>g_183</th>\n",
       "      <th>g_184</th>\n",
       "      <th>g_185</th>\n",
       "      <th>g_186</th>\n",
       "      <th>g_187</th>\n",
       "      <th>g_188</th>\n",
       "      <th>g_189</th>\n",
       "      <th>g_190</th>\n",
       "      <th>g_191</th>\n",
       "    </tr>\n",
       "  </thead>\n",
       "  <tbody>\n",
       "    <tr>\n",
       "      <th>0</th>\n",
       "      <td>14</td>\n",
       "      <td>14</td>\n",
       "      <td>45</td>\n",
       "      <td>51</td>\n",
       "      <td>6</td>\n",
       "      <td>7</td>\n",
       "      <td>4.0</td>\n",
       "      <td>13.0</td>\n",
       "      <td>0.307692</td>\n",
       "      <td>28</td>\n",
       "      <td>0</td>\n",
       "      <td>0.749981</td>\n",
       "      <td>0.749981</td>\n",
       "      <td>0.499975</td>\n",
       "      <td>0.333322</td>\n",
       "      <td>0.666656</td>\n",
       "      <td>0.571420</td>\n",
       "      <td>1.0</td>\n",
       "      <td>0.0</td>\n",
       "      <td>1.0</td>\n",
       "      <td>6.5</td>\n",
       "      <td>87</td>\n",
       "      <td>79</td>\n",
       "      <td>83</td>\n",
       "      <td>87</td>\n",
       "      <td>0.608696</td>\n",
       "      <td>0.612278</td>\n",
       "      <td>-3.942651</td>\n",
       "      <td>-8.818967</td>\n",
       "      <td>-2.501753</td>\n",
       "      <td>15.810735</td>\n",
       "      <td>11.138597</td>\n",
       "      <td>0.387640</td>\n",
       "      <td>-1.177635</td>\n",
       "      <td>7.402584</td>\n",
       "      <td>8.513069</td>\n",
       "      <td>2.473229</td>\n",
       "      <td>-10.878558</td>\n",
       "      <td>1.026936</td>\n",
       "      <td>6.129054</td>\n",
       "      <td>...</td>\n",
       "      <td>-7.545232</td>\n",
       "      <td>9.440702</td>\n",
       "      <td>7.048005</td>\n",
       "      <td>2.317969</td>\n",
       "      <td>8.545069</td>\n",
       "      <td>-6.574237</td>\n",
       "      <td>4.553792</td>\n",
       "      <td>-3.352811</td>\n",
       "      <td>19.114544</td>\n",
       "      <td>-4.980732</td>\n",
       "      <td>7.898074</td>\n",
       "      <td>-6.348878</td>\n",
       "      <td>12.020767</td>\n",
       "      <td>0.444384</td>\n",
       "      <td>-3.353588</td>\n",
       "      <td>2.004786</td>\n",
       "      <td>4.434849</td>\n",
       "      <td>-5.041046</td>\n",
       "      <td>5.715216</td>\n",
       "      <td>2.353666</td>\n",
       "      <td>10.170400</td>\n",
       "      <td>-4.123979</td>\n",
       "      <td>-1.144980</td>\n",
       "      <td>-2.034350</td>\n",
       "      <td>-0.081597</td>\n",
       "      <td>-11.209025</td>\n",
       "      <td>0.535740</td>\n",
       "      <td>0.558793</td>\n",
       "      <td>6.037734</td>\n",
       "      <td>-12.116781</td>\n",
       "      <td>3.969435</td>\n",
       "      <td>-4.386923</td>\n",
       "      <td>5.229480</td>\n",
       "      <td>6.589633</td>\n",
       "      <td>-13.695223</td>\n",
       "      <td>-2.685117</td>\n",
       "      <td>8.354160</td>\n",
       "      <td>8.374036</td>\n",
       "      <td>-7.196234</td>\n",
       "      <td>19.219431</td>\n",
       "    </tr>\n",
       "    <tr>\n",
       "      <th>1</th>\n",
       "      <td>3</td>\n",
       "      <td>1</td>\n",
       "      <td>82</td>\n",
       "      <td>53</td>\n",
       "      <td>13</td>\n",
       "      <td>9</td>\n",
       "      <td>0.0</td>\n",
       "      <td>21.0</td>\n",
       "      <td>0.000000</td>\n",
       "      <td>4</td>\n",
       "      <td>2</td>\n",
       "      <td>0.399992</td>\n",
       "      <td>0.399992</td>\n",
       "      <td>0.000000</td>\n",
       "      <td>0.000000</td>\n",
       "      <td>0.222220</td>\n",
       "      <td>0.153845</td>\n",
       "      <td>0.0</td>\n",
       "      <td>0.0</td>\n",
       "      <td>4.0</td>\n",
       "      <td>11.0</td>\n",
       "      <td>60</td>\n",
       "      <td>59</td>\n",
       "      <td>42</td>\n",
       "      <td>55</td>\n",
       "      <td>0.277778</td>\n",
       "      <td>-5.683469</td>\n",
       "      <td>3.083360</td>\n",
       "      <td>1.681166</td>\n",
       "      <td>-5.201771</td>\n",
       "      <td>6.727090</td>\n",
       "      <td>-1.414133</td>\n",
       "      <td>-1.522692</td>\n",
       "      <td>-0.075468</td>\n",
       "      <td>-0.947463</td>\n",
       "      <td>5.226710</td>\n",
       "      <td>-0.478414</td>\n",
       "      <td>1.509829</td>\n",
       "      <td>-0.063908</td>\n",
       "      <td>-3.539158</td>\n",
       "      <td>...</td>\n",
       "      <td>9.807779</td>\n",
       "      <td>1.571908</td>\n",
       "      <td>-3.035435</td>\n",
       "      <td>3.513985</td>\n",
       "      <td>6.976508</td>\n",
       "      <td>-0.392624</td>\n",
       "      <td>-4.029492</td>\n",
       "      <td>2.376525</td>\n",
       "      <td>-2.970107</td>\n",
       "      <td>-1.070152</td>\n",
       "      <td>8.731825</td>\n",
       "      <td>-2.632239</td>\n",
       "      <td>0.196710</td>\n",
       "      <td>8.772021</td>\n",
       "      <td>-2.880338</td>\n",
       "      <td>0.069473</td>\n",
       "      <td>1.515940</td>\n",
       "      <td>-3.420026</td>\n",
       "      <td>-6.288407</td>\n",
       "      <td>-0.918903</td>\n",
       "      <td>3.008246</td>\n",
       "      <td>-2.611791</td>\n",
       "      <td>-0.394613</td>\n",
       "      <td>-0.040115</td>\n",
       "      <td>-0.865941</td>\n",
       "      <td>0.198538</td>\n",
       "      <td>0.408968</td>\n",
       "      <td>-0.428670</td>\n",
       "      <td>-0.204146</td>\n",
       "      <td>-0.570725</td>\n",
       "      <td>-2.151148</td>\n",
       "      <td>1.043688</td>\n",
       "      <td>1.686962</td>\n",
       "      <td>1.703929</td>\n",
       "      <td>-1.317777</td>\n",
       "      <td>-2.861869</td>\n",
       "      <td>1.587751</td>\n",
       "      <td>2.456052</td>\n",
       "      <td>-3.206597</td>\n",
       "      <td>6.237281</td>\n",
       "    </tr>\n",
       "    <tr>\n",
       "      <th>2</th>\n",
       "      <td>42</td>\n",
       "      <td>46</td>\n",
       "      <td>66</td>\n",
       "      <td>28</td>\n",
       "      <td>12</td>\n",
       "      <td>6</td>\n",
       "      <td>4.0</td>\n",
       "      <td>18.0</td>\n",
       "      <td>0.222222</td>\n",
       "      <td>88</td>\n",
       "      <td>4</td>\n",
       "      <td>0.999967</td>\n",
       "      <td>0.499992</td>\n",
       "      <td>0.333322</td>\n",
       "      <td>0.166664</td>\n",
       "      <td>0.666656</td>\n",
       "      <td>0.333331</td>\n",
       "      <td>1.0</td>\n",
       "      <td>0.0</td>\n",
       "      <td>6.0</td>\n",
       "      <td>9.0</td>\n",
       "      <td>88</td>\n",
       "      <td>46</td>\n",
       "      <td>50</td>\n",
       "      <td>89</td>\n",
       "      <td>0.655172</td>\n",
       "      <td>-0.324799</td>\n",
       "      <td>-2.121402</td>\n",
       "      <td>-4.809023</td>\n",
       "      <td>-2.579247</td>\n",
       "      <td>4.023664</td>\n",
       "      <td>-0.068430</td>\n",
       "      <td>6.418925</td>\n",
       "      <td>3.172831</td>\n",
       "      <td>6.591637</td>\n",
       "      <td>2.150353</td>\n",
       "      <td>0.382578</td>\n",
       "      <td>3.319465</td>\n",
       "      <td>2.568779</td>\n",
       "      <td>-6.292074</td>\n",
       "      <td>...</td>\n",
       "      <td>9.553576</td>\n",
       "      <td>1.552370</td>\n",
       "      <td>-2.679412</td>\n",
       "      <td>-0.008724</td>\n",
       "      <td>8.566373</td>\n",
       "      <td>-8.296816</td>\n",
       "      <td>-4.378370</td>\n",
       "      <td>-2.526224</td>\n",
       "      <td>-0.689918</td>\n",
       "      <td>-2.451400</td>\n",
       "      <td>-2.575501</td>\n",
       "      <td>5.584104</td>\n",
       "      <td>0.723447</td>\n",
       "      <td>3.256052</td>\n",
       "      <td>-4.436919</td>\n",
       "      <td>7.084064</td>\n",
       "      <td>5.341232</td>\n",
       "      <td>5.525335</td>\n",
       "      <td>-5.897781</td>\n",
       "      <td>-2.825213</td>\n",
       "      <td>6.039283</td>\n",
       "      <td>3.986308</td>\n",
       "      <td>0.960049</td>\n",
       "      <td>2.894634</td>\n",
       "      <td>0.042847</td>\n",
       "      <td>-1.321844</td>\n",
       "      <td>-4.584669</td>\n",
       "      <td>3.647700</td>\n",
       "      <td>-0.366333</td>\n",
       "      <td>-0.866130</td>\n",
       "      <td>-1.119629</td>\n",
       "      <td>-1.178872</td>\n",
       "      <td>0.693722</td>\n",
       "      <td>0.528563</td>\n",
       "      <td>2.404150</td>\n",
       "      <td>5.529877</td>\n",
       "      <td>-6.858145</td>\n",
       "      <td>8.659120</td>\n",
       "      <td>-0.890519</td>\n",
       "      <td>1.957024</td>\n",
       "    </tr>\n",
       "  </tbody>\n",
       "</table>\n",
       "<p>3 rows × 218 columns</p>\n",
       "</div>"
      ],
      "text/plain": [
       "   freq_qid1  freq_qid2  q1len  q2len  ...     g_188     g_189     g_190      g_191\n",
       "0         14         14     45     51  ...  8.354160  8.374036 -7.196234  19.219431\n",
       "1          3          1     82     53  ...  1.587751  2.456052 -3.206597   6.237281\n",
       "2         42         46     66     28  ... -6.858145  8.659120 -0.890519   1.957024\n",
       "\n",
       "[3 rows x 218 columns]"
      ]
     },
     "execution_count": 6,
     "metadata": {
      "tags": []
     },
     "output_type": "execute_result"
    }
   ],
   "source": [
    "X_test.head(3)"
   ]
  },
  {
   "cell_type": "code",
   "execution_count": null,
   "metadata": {
    "colab": {},
    "colab_type": "code",
    "id": "8KG-zYLtb6rJ"
   },
   "outputs": [],
   "source": [
    "# This function plots the confusion matrices given y_i, y_i_hat.\n",
    "def plot_confusion_matrix(test_y, predict_y):\n",
    "    C = confusion_matrix(test_y, predict_y)\n",
    "    # C = 9,9 matrix, each cell (i,j) represents number of points of class i are predicted class j\n",
    "    #[TN FP]\n",
    "    #[FN TP]   \n",
    "    \n",
    "    A =(((C.T)/(C.sum(axis=1))).T)\n",
    "    #precision = true positive / predicted positive\n",
    "    #divid each element of the confusion matrix with the sum of elements in that column\n",
    "    \n",
    "    # C = [[1, 2],\n",
    "    #     [3, 4]]\n",
    "    # C.T = [[1, 3],\n",
    "    #        [2, 4]]\n",
    "    # C.sum(axis = 1)  axis=0 corresonds to columns and axis=1 corresponds to rows in two diamensional array\n",
    "    # C.sum(axix =1) = [[3, 7]]\n",
    "    # ((C.T)/(C.sum(axis=1))) = [[1/3, 3/7]\n",
    "    #                           [2/3, 4/7]]\n",
    "\n",
    "    # ((C.T)/(C.sum(axis=1))).T = [[1/3, 2/3]\n",
    "    #                           [3/7, 4/7]]\n",
    "    # sum of row elements = 1\n",
    "    \n",
    "    B =(C/C.sum(axis=0))\n",
    "    #recall = true positive/ actual positive\n",
    "    #divide each element of the confusion matrix with the sum of elements in that row\n",
    "    # C = [[1, 2],\n",
    "    #     [3, 4]]\n",
    "    # C.sum(axis = 0)  axis=0 corresonds to columns and axis=1 corresponds to rows in two diamensional array\n",
    "    # C.sum(axix =0) = [[4, 6]]\n",
    "    # (C/C.sum(axis=0)) = [[1/4, 2/6],\n",
    "    #                      [3/4, 4/6]] \n",
    "    plt.figure(figsize=(20,4))\n",
    "    \n",
    "    labels = [1,2]\n",
    "    # representing A in heatmap format\n",
    "    # cmap=sns.light_palette(\"blue\")\n",
    "    plt.subplot(1, 3, 1)\n",
    "    sns.heatmap(C, annot=True, fmt=\".3f\", xticklabels=labels, yticklabels=labels)\n",
    "    plt.xlabel('Predicted Class')\n",
    "    plt.ylabel('Original Class')\n",
    "    plt.title(\"Confusion matrix\")\n",
    "    \n",
    "    plt.subplot(1, 3, 2)\n",
    "    sns.heatmap(B, annot=True,  fmt=\".3f\", xticklabels=labels, yticklabels=labels)\n",
    "    plt.xlabel('Predicted Class')\n",
    "    plt.ylabel('Original Class')\n",
    "    plt.title(\"Precision matrix\")\n",
    "    \n",
    "    plt.subplot(1, 3, 3)\n",
    "    # representing B in heatmap format\n",
    "    sns.heatmap(A, annot=True, fmt=\".3f\", xticklabels=labels, yticklabels=labels)\n",
    "    plt.xlabel('Predicted Class')\n",
    "    plt.ylabel('Original Class')\n",
    "    plt.title(\"Recall matrix\")\n",
    "    \n",
    "    plt.show()"
   ]
  },
  {
   "cell_type": "markdown",
   "metadata": {
    "colab_type": "text",
    "id": "HXyFP7wDAbej"
   },
   "source": [
    "# Logistic Regression"
   ]
  },
  {
   "cell_type": "code",
   "execution_count": null,
   "metadata": {
    "colab": {
     "base_uri": "https://localhost:8080/",
     "height": 414
    },
    "colab_type": "code",
    "executionInfo": {
     "elapsed": 360545,
     "status": "ok",
     "timestamp": 1600608799035,
     "user": {
      "displayName": "Arun Mohan",
      "photoUrl": "",
      "userId": "03613179849735053887"
     },
     "user_tz": 0
    },
    "id": "6w7tNnlZGmsg",
    "outputId": "655a2ee9-bee0-47b8-b734-1eea97beb86d"
   },
   "outputs": [
    {
     "name": "stdout",
     "output_type": "stream",
     "text": [
      "For values of alpha =  1e-05 The log loss is: 0.40165158273973967\n",
      "For values of alpha =  0.0001 The log loss is: 0.4097987561484816\n",
      "For values of alpha =  0.001 The log loss is: 0.4145151296456632\n",
      "For values of alpha =  0.01 The log loss is: 0.39427716888842734\n",
      "For values of alpha =  0.1 The log loss is: 0.4205558307935418\n",
      "For values of alpha =  1 The log loss is: 0.45518958942966337\n",
      "For values of alpha =  10 The log loss is: 0.5061195162170091\n"
     ]
    },
    {
     "data": {
      "image/png": "[encoded data removed]",
      "text/plain": [
       "<Figure size 432x288 with 1 Axes>"
      ]
     },
     "metadata": {
      "needs_background": "light",
      "tags": []
     },
     "output_type": "display_data"
    }
   ],
   "source": [
    "alpha = [10 ** x for x in range(-5, 2)] # hyperparam for SGD classifier.\n",
    "log_error_array=[]\n",
    "for i in alpha:\n",
    "    clf = SGDClassifier(alpha=i, penalty='l2', loss='log', random_state=42)\n",
    "    clf.fit(X_train, y_train)\n",
    "    sig_clf = CalibratedClassifierCV(clf, method=\"sigmoid\")\n",
    "    sig_clf.fit(X_train, y_train)\n",
    "    predict_y = sig_clf.predict_proba(X_test)\n",
    "    log_error_array.append(log_loss(y_test, predict_y, labels=clf.classes_, eps=1e-15))\n",
    "    print('For values of alpha = ', i, \"The log loss is:\",log_loss(y_test, predict_y, labels=clf.classes_, eps=1e-15))\n",
    "\n",
    "fig, ax = plt.subplots()\n",
    "ax.plot(alpha, log_error_array,c='g')\n",
    "for i, txt in enumerate(np.round(log_error_array,3)):\n",
    "    ax.annotate((alpha[i],np.round(txt,3)), (alpha[i],log_error_array[i]))\n",
    "plt.grid()\n",
    "plt.title(\"Cross Validation Error for each alpha\")\n",
    "plt.xlabel(\"Alpha i's\")\n",
    "plt.ylabel(\"Error measure\")\n",
    "plt.show()"
   ]
  },
  {
   "cell_type": "code",
   "execution_count": null,
   "metadata": {
    "colab": {
     "base_uri": "https://localhost:8080/",
     "height": 346
    },
    "colab_type": "code",
    "executionInfo": {
     "elapsed": 386928,
     "status": "ok",
     "timestamp": 1600608825558,
     "user": {
      "displayName": "Arun Mohan",
      "photoUrl": "",
      "userId": "03613179849735053887"
     },
     "user_tz": 0
    },
    "id": "CFji38kRPuD8",
    "outputId": "037d9d51-46a1-4a4b-b61e-c613c41d9705"
   },
   "outputs": [
    {
     "name": "stdout",
     "output_type": "stream",
     "text": [
      "For values of best alpha =  0.01 The train log loss is: 0.38510814521770803\n",
      "For values of best alpha =  0.01 The test log loss is: 0.39427716888842734\n",
      "Total number of data points : 30000\n"
     ]
    },
    {
     "data": {
      "image/png": "[encoded data removed]",
      "text/plain": [
       "<Figure size 1440x288 with 6 Axes>"
      ]
     },
     "metadata": {
      "needs_background": "light",
      "tags": []
     },
     "output_type": "display_data"
    }
   ],
   "source": [
    "best_alpha = np.argmin(log_error_array)\n",
    "clf = SGDClassifier(alpha=alpha[best_alpha], penalty='l2', loss='log', random_state=42)\n",
    "clf.fit(X_train, y_train)\n",
    "sig_clf = CalibratedClassifierCV(clf, method=\"sigmoid\")\n",
    "sig_clf.fit(X_train, y_train)\n",
    "\n",
    "predict_y = sig_clf.predict_proba(X_train)\n",
    "print('For values of best alpha = ', alpha[best_alpha], \"The train log loss is:\",log_loss(y_train, predict_y, labels=clf.classes_, eps=1e-15))\n",
    "predict_y = sig_clf.predict_proba(X_test)\n",
    "print('For values of best alpha = ', alpha[best_alpha], \"The test log loss is:\",log_loss(y_test, predict_y, labels=clf.classes_, eps=1e-15))\n",
    "predicted_y =np.argmax(predict_y,axis=1)\n",
    "print(\"Total number of data points :\", len(predicted_y))\n",
    "plot_confusion_matrix(y_test, predicted_y)"
   ]
  },
  {
   "cell_type": "markdown",
   "metadata": {
    "colab_type": "text",
    "id": "K_bw542lpYDx"
   },
   "source": [
    "Interpretation of precision matrix:\n",
    "\n",
    "* Of all the points predicted as class1 17% belongs to class 2 and 82% is predicted correct as class1.\n",
    "\n",
    "* Similarly of all points predicted as class2 78% belongs to class2 and 21% belongs to class1.\n",
    "\n",
    "Recall matrix:\n",
    "* Of all actual points belonging to class 1, 89.3% is precied as class 1 and rest 10.7% as class2.\n",
    "* Similarly, Of all the actual points belonging to class 2, 31% is predicted as class 1 and 66.9% as class2."
   ]
  },
  {
   "cell_type": "markdown",
   "metadata": {
    "colab_type": "text",
    "id": "DJl4uYvFdIcx"
   },
   "source": [
    "## Linear SVM with hinge Loss"
   ]
  },
  {
   "cell_type": "code",
   "execution_count": null,
   "metadata": {
    "colab": {
     "base_uri": "https://localhost:8080/",
     "height": 414
    },
    "colab_type": "code",
    "executionInfo": {
     "elapsed": 638120,
     "status": "ok",
     "timestamp": 1600609076853,
     "user": {
      "displayName": "Arun Mohan",
      "photoUrl": "",
      "userId": "03613179849735053887"
     },
     "user_tz": 0
    },
    "id": "ddTix4leb8Mt",
    "outputId": "1303b083-33a9-45b0-ab17-ff80b5b2d364"
   },
   "outputs": [
    {
     "name": "stdout",
     "output_type": "stream",
     "text": [
      "For values of alpha =  1e-05 The log loss is: 0.4013909147996854\n",
      "For values of alpha =  0.0001 The log loss is: 0.4089492233295954\n",
      "For values of alpha =  0.001 The log loss is: 0.4055115317016078\n",
      "For values of alpha =  0.01 The log loss is: 0.39550174611595856\n",
      "For values of alpha =  0.1 The log loss is: 0.417725401342702\n",
      "For values of alpha =  1 The log loss is: 0.4426284228684692\n",
      "For values of alpha =  10 The log loss is: 0.49218040185209827\n"
     ]
    },
    {
     "data": {
      "image/png": "[encoded data removed]",
      "text/plain": [
       "<Figure size 432x288 with 1 Axes>"
      ]
     },
     "metadata": {
      "needs_background": "light",
      "tags": []
     },
     "output_type": "display_data"
    }
   ],
   "source": [
    "alpha = [10 ** x for x in range(-5, 2)] # hyperparam for SGD classifier.\n",
    "log_error_array=[]\n",
    "for i in alpha:\n",
    "    clf = SGDClassifier(alpha=i, penalty='l2', loss='hinge', random_state=42)\n",
    "    clf.fit(X_train, y_train)\n",
    "    sig_clf = CalibratedClassifierCV(clf, method=\"sigmoid\")\n",
    "    sig_clf.fit(X_train, y_train)\n",
    "    predict_y = sig_clf.predict_proba(X_test)\n",
    "    log_error_array.append(log_loss(y_test, predict_y, labels=clf.classes_, eps=1e-15))\n",
    "    print('For values of alpha = ', i, \"The log loss is:\",log_loss(y_test, predict_y, labels=clf.classes_, eps=1e-15))\n",
    "\n",
    "fig, ax = plt.subplots()\n",
    "ax.plot(alpha, log_error_array,c='g')\n",
    "for i, txt in enumerate(np.round(log_error_array,3)):\n",
    "    ax.annotate((alpha[i],np.round(txt,3)), (alpha[i],log_error_array[i]))\n",
    "plt.grid()\n",
    "plt.title(\"Cross Validation Error for each alpha\")\n",
    "plt.xlabel(\"Alpha i's\")\n",
    "plt.ylabel(\"Error measure\")\n",
    "plt.show()"
   ]
  },
  {
   "cell_type": "code",
   "execution_count": null,
   "metadata": {
    "colab": {
     "base_uri": "https://localhost:8080/",
     "height": 346
    },
    "colab_type": "code",
    "executionInfo": {
     "elapsed": 665638,
     "status": "ok",
     "timestamp": 1600609104407,
     "user": {
      "displayName": "Arun Mohan",
      "photoUrl": "",
      "userId": "03613179849735053887"
     },
     "user_tz": 0
    },
    "id": "IUSWvPxNdNPw",
    "outputId": "77f828c0-0a12-4909-e85a-f75ba7b40fb7"
   },
   "outputs": [
    {
     "name": "stdout",
     "output_type": "stream",
     "text": [
      "For values of best alpha =  0.01 The train log loss is: 0.3876547800339339\n",
      "For values of best alpha =  0.01 The test log loss is: 0.39550174611595856\n",
      "Total number of data points : 30000\n"
     ]
    },
    {
     "data": {
      "image/png": "[encoded data removed]",
      "text/plain": [
       "<Figure size 1440x288 with 6 Axes>"
      ]
     },
     "metadata": {
      "needs_background": "light",
      "tags": []
     },
     "output_type": "display_data"
    }
   ],
   "source": [
    "best_alpha = np.argmin(log_error_array)\n",
    "clf = SGDClassifier(alpha=alpha[best_alpha], penalty='l2', loss='hinge', random_state=42)\n",
    "clf.fit(X_train, y_train)\n",
    "sig_clf = CalibratedClassifierCV(clf, method=\"sigmoid\")\n",
    "sig_clf.fit(X_train, y_train)\n",
    "\n",
    "predict_y = sig_clf.predict_proba(X_train)\n",
    "print('For values of best alpha = ', alpha[best_alpha], \"The train log loss is:\",log_loss(y_train, predict_y, labels=clf.classes_, eps=1e-15))\n",
    "predict_y = sig_clf.predict_proba(X_test)\n",
    "print('For values of best alpha = ', alpha[best_alpha], \"The test log loss is:\",log_loss(y_test, predict_y, labels=clf.classes_, eps=1e-15))\n",
    "predicted_y =np.argmax(predict_y,axis=1)\n",
    "print(\"Total number of data points :\", len(predicted_y))\n",
    "plot_confusion_matrix(y_test, predicted_y)"
   ]
  },
  {
   "cell_type": "markdown",
   "metadata": {
    "colab_type": "text",
    "id": "8Y1q3z3Uf7Dw"
   },
   "source": [
    "## XGBoost Classifier"
   ]
  },
  {
   "cell_type": "code",
   "execution_count": null,
   "metadata": {
    "colab": {
     "base_uri": "https://localhost:8080/",
     "height": 51
    },
    "colab_type": "code",
    "executionInfo": {
     "elapsed": 3904888,
     "status": "ok",
     "timestamp": 1600612343725,
     "user": {
      "displayName": "Arun Mohan",
      "photoUrl": "",
      "userId": "03613179849735053887"
     },
     "user_tz": 0
    },
    "id": "xphq_Ba8dP_0",
    "outputId": "612f4b24-505f-4ac7-82c4-9da4a5a8ac01"
   },
   "outputs": [
    {
     "name": "stdout",
     "output_type": "stream",
     "text": [
      "Best score :  -0.31533046342326315\n",
      "Best Parameters {'n_estimators': 90, 'max_depth': 7, 'learning_rate': 0.2, 'gamma': 0}\n"
     ]
    }
   ],
   "source": [
    "\n",
    "import xgboost as xgb\n",
    "from sklearn.model_selection import RandomizedSearchCV\n",
    "\n",
    "params = {\n",
    "        'max_depth': [i for i in range(1,8,2)],\n",
    "        'n_estimators' : [i*10 for i in range(1, 10)],\n",
    "         'gamma': [0, 0.25, 0.5, 1.0],'learning_rate': [0.001, 0.01, 0.1, 0.2, 0,3]         \n",
    "        }\n",
    "xgboost_model = xgb.XGBClassifier(objective='binary:logistic', eval_metric='logloss',n_jobs=-1)\n",
    "\n",
    "xgb_search = RandomizedSearchCV(xgboost_model, param_distributions = params,n_iter=30,\n",
    "                         scoring = 'neg_log_loss', n_jobs = -1,cv=3)\n",
    "\n",
    "xgb_search.fit(X_train, y_train)\n",
    "\n",
    "print(\"Best score : \",xgb_search.best_score_)\n",
    "print(\"Best Parameters\",xgb_search.best_params_)"
   ]
  },
  {
   "cell_type": "code",
   "execution_count": null,
   "metadata": {
    "colab": {
     "base_uri": "https://localhost:8080/",
     "height": 329
    },
    "colab_type": "code",
    "executionInfo": {
     "elapsed": 4688243,
     "status": "ok",
     "timestamp": 1600613127112,
     "user": {
      "displayName": "Arun Mohan",
      "photoUrl": "",
      "userId": "03613179849735053887"
     },
     "user_tz": 0
    },
    "id": "Jq6CAASJgBEI",
    "outputId": "f31b9797-ca35-46e3-a51c-5deb029b1a97"
   },
   "outputs": [
    {
     "name": "stdout",
     "output_type": "stream",
     "text": [
      "Log loss for tfidf train data :  0.18352535336611045\n",
      "Log loss for tfidf test data :  0.3216499608813009\n"
     ]
    },
    {
     "data": {
      "image/png": "[encoded data removed]",
      "text/plain": [
       "<Figure size 1440x288 with 6 Axes>"
      ]
     },
     "metadata": {
      "needs_background": "light",
      "tags": []
     },
     "output_type": "display_data"
    }
   ],
   "source": [
    "clf = xgb.XGBClassifier(**xgb_search.best_params_,objective='binary:logistic', eval_metric='logloss',n_jobs=-1)\n",
    "clf.fit(X_train, y_train)   \n",
    "\n",
    "#log loss uses a exact prob score \n",
    "cal_clf = CalibratedClassifierCV(clf, method=\"sigmoid\")\n",
    "cal_clf.fit(X_train, y_train)\n",
    "\n",
    "predict_y = cal_clf.predict_proba(X_train)\n",
    "\n",
    "print(\"Log loss for tfidf train data : \",log_loss(y_train, predict_y,  eps=1e-15))\n",
    "predict_y = cal_clf.predict_proba(X_test)\n",
    "\n",
    "print(\"Log loss for tfidf test data : \",log_loss(y_test, predict_y,  eps=1e-15))\n",
    "predicted_y =np.argmax(predict_y,axis=1)\n",
    "plot_confusion_matrix(y_test, predicted_y)"
   ]
  },
  {
   "cell_type": "markdown",
   "metadata": {
    "colab_type": "text",
    "id": "h0DLAvvBg4ES"
   },
   "source": [
    "#[2] TFIDF Features"
   ]
  },
  {
   "cell_type": "code",
   "execution_count": null,
   "metadata": {
    "colab": {
     "base_uri": "https://localhost:8080/",
     "height": 85
    },
    "colab_type": "code",
    "executionInfo": {
     "elapsed": 4690923,
     "status": "ok",
     "timestamp": 1600613129856,
     "user": {
      "displayName": "Arun Mohan",
      "photoUrl": "",
      "userId": "03613179849735053887"
     },
     "user_tz": 0
    },
    "id": "VICbQPVfg524",
    "outputId": "921080a1-9931-46df-c375-204646d9ec22"
   },
   "outputs": [
    {
     "name": "stdout",
     "output_type": "stream",
     "text": [
      "(70000, 40000)\n",
      "(30000, 40000)\n",
      "(70000, 1)\n",
      "(30000, 1)\n"
     ]
    }
   ],
   "source": [
    "#tfidf-w2v\n",
    "X_train = pickle.load(open(\"data/tfidf_X_tr\",\"rb\"))\n",
    "X_test = pickle.load(open(\"data/tfidf_X_test\",\"rb\"))\n",
    "y_test = pd.read_csv('data/test_y.csv')\n",
    "y_train = pd.read_csv('data/train_y.csv')\n",
    "\n",
    "print(X_train.shape)\n",
    "print(X_test.shape)\n",
    "print(y_train.shape)\n",
    "print(y_test.shape)"
   ]
  },
  {
   "cell_type": "markdown",
   "metadata": {
    "colab_type": "text",
    "id": "oz36aq5WXSNm"
   },
   "source": [
    "## Logistic Regression"
   ]
  },
  {
   "cell_type": "code",
   "execution_count": null,
   "metadata": {
    "colab": {
     "base_uri": "https://localhost:8080/",
     "height": 414
    },
    "colab_type": "code",
    "executionInfo": {
     "elapsed": 4703595,
     "status": "ok",
     "timestamp": 1600613142599,
     "user": {
      "displayName": "Arun Mohan",
      "photoUrl": "",
      "userId": "03613179849735053887"
     },
     "user_tz": 0
    },
    "id": "wyvsazI-_Eji",
    "outputId": "f8b3be69-7504-41c7-f45e-b3b4e43dc1a8"
   },
   "outputs": [
    {
     "name": "stdout",
     "output_type": "stream",
     "text": [
      "For values of alpha =  1e-05 The log loss is: 0.5394207245766669\n",
      "For values of alpha =  0.0001 The log loss is: 0.543951104454476\n",
      "For values of alpha =  0.001 The log loss is: 0.5717219674143557\n",
      "For values of alpha =  0.01 The log loss is: 0.5963950767969237\n",
      "For values of alpha =  0.1 The log loss is: 0.6433334574047959\n",
      "For values of alpha =  1 The log loss is: 0.6511035183412025\n",
      "For values of alpha =  10 The log loss is: 0.6518019256424172\n"
     ]
    },
    {
     "data": {
      "image/png": "[encoded data removed]",
      "text/plain": [
       "<Figure size 432x288 with 1 Axes>"
      ]
     },
     "metadata": {
      "needs_background": "light",
      "tags": []
     },
     "output_type": "display_data"
    }
   ],
   "source": [
    "alpha = [10 ** x for x in range(-5, 2)] # hyperparam for SGD classifier.\n",
    "log_error_array=[]\n",
    "for i in alpha:\n",
    "    clf = SGDClassifier(alpha=i, penalty='l2', loss='log', random_state=42)\n",
    "    clf.fit(X_train, y_train)\n",
    "    sig_clf = CalibratedClassifierCV(clf, method=\"sigmoid\")\n",
    "    sig_clf.fit(X_train, y_train)\n",
    "    predict_y = sig_clf.predict_proba(X_test)\n",
    "    log_error_array.append(log_loss(y_test, predict_y, labels=clf.classes_, eps=1e-15))\n",
    "    print('For values of alpha = ', i, \"The log loss is:\",log_loss(y_test, predict_y, labels=clf.classes_, eps=1e-15))\n",
    "\n",
    "fig, ax = plt.subplots()\n",
    "ax.plot(alpha, log_error_array,c='g')\n",
    "for i, txt in enumerate(np.round(log_error_array,3)):\n",
    "    ax.annotate((alpha[i],np.round(txt,3)), (alpha[i],log_error_array[i]))\n",
    "plt.grid()\n",
    "plt.title(\"Cross Validation Error for each alpha\")\n",
    "plt.xlabel(\"Alpha i's\")\n",
    "plt.ylabel(\"Error measure\")\n",
    "plt.show()"
   ]
  },
  {
   "cell_type": "code",
   "execution_count": null,
   "metadata": {
    "colab": {
     "base_uri": "https://localhost:8080/",
     "height": 346
    },
    "colab_type": "code",
    "executionInfo": {
     "elapsed": 4707511,
     "status": "ok",
     "timestamp": 1600613146572,
     "user": {
      "displayName": "Arun Mohan",
      "photoUrl": "",
      "userId": "03613179849735053887"
     },
     "user_tz": 0
    },
    "id": "QzFPvyIF_PJF",
    "outputId": "8a4f456a-3ef0-4f34-f200-3455fd5e4325"
   },
   "outputs": [
    {
     "name": "stdout",
     "output_type": "stream",
     "text": [
      "For values of best alpha =  1e-05 The train log loss is: 0.4362009071577383\n",
      "For values of best alpha =  1e-05 The test log loss is: 0.5394207245766669\n",
      "Total number of data points : 30000\n"
     ]
    },
    {
     "data": {
      "image/png": "[encoded data removed]",
      "text/plain": [
       "<Figure size 1440x288 with 6 Axes>"
      ]
     },
     "metadata": {
      "needs_background": "light",
      "tags": []
     },
     "output_type": "display_data"
    }
   ],
   "source": [
    "best_alpha = np.argmin(log_error_array)\n",
    "clf = SGDClassifier(alpha=alpha[best_alpha], penalty='l2', loss='log', random_state=42)\n",
    "clf.fit(X_train, y_train)\n",
    "sig_clf = CalibratedClassifierCV(clf, method=\"sigmoid\")\n",
    "sig_clf.fit(X_train, y_train)\n",
    "\n",
    "predict_y = sig_clf.predict_proba(X_train)\n",
    "print('For values of best alpha = ', alpha[best_alpha], \"The train log loss is:\",log_loss(y_train, predict_y, labels=clf.classes_, eps=1e-15))\n",
    "predict_y = sig_clf.predict_proba(X_test)\n",
    "print('For values of best alpha = ', alpha[best_alpha], \"The test log loss is:\",log_loss(y_test, predict_y, labels=clf.classes_, eps=1e-15))\n",
    "predicted_y =np.argmax(predict_y,axis=1)\n",
    "print(\"Total number of data points :\", len(predicted_y))\n",
    "plot_confusion_matrix(y_test, predicted_y)"
   ]
  },
  {
   "cell_type": "markdown",
   "metadata": {
    "colab_type": "text",
    "id": "-7AodGpvXeXe"
   },
   "source": [
    "## Linear SVM with hinge Loss"
   ]
  },
  {
   "cell_type": "code",
   "execution_count": null,
   "metadata": {
    "colab": {
     "base_uri": "https://localhost:8080/",
     "height": 414
    },
    "colab_type": "code",
    "executionInfo": {
     "elapsed": 4720594,
     "status": "ok",
     "timestamp": 1600613159734,
     "user": {
      "displayName": "Arun Mohan",
      "photoUrl": "",
      "userId": "03613179849735053887"
     },
     "user_tz": 0
    },
    "id": "VbiYAqgyXQ2N",
    "outputId": "229ed261-3f6f-4dea-911c-2df02e2af0bf"
   },
   "outputs": [
    {
     "name": "stdout",
     "output_type": "stream",
     "text": [
      "For values of alpha =  1e-05 The log loss is: 0.5524954614855542\n",
      "For values of alpha =  0.0001 The log loss is: 0.5443965550252065\n",
      "For values of alpha =  0.001 The log loss is: 0.5765725926658049\n",
      "For values of alpha =  0.01 The log loss is: 0.5852451402804573\n",
      "For values of alpha =  0.1 The log loss is: 0.6518244656269191\n",
      "For values of alpha =  1 The log loss is: 0.6518244656246968\n",
      "For values of alpha =  10 The log loss is: 0.6518244656268375\n"
     ]
    },
    {
     "data": {
      "image/png": "[encoded data removed]",
      "text/plain": [
       "<Figure size 432x288 with 1 Axes>"
      ]
     },
     "metadata": {
      "needs_background": "light",
      "tags": []
     },
     "output_type": "display_data"
    }
   ],
   "source": [
    "alpha = [10 ** x for x in range(-5, 2)] # hyperparam for SGD classifier.\n",
    "log_error_array=[]\n",
    "for i in alpha:\n",
    "    clf = SGDClassifier(alpha=i, penalty='l2', loss='hinge', random_state=42)\n",
    "    clf.fit(X_train, y_train)\n",
    "    sig_clf = CalibratedClassifierCV(clf, method=\"sigmoid\")\n",
    "    sig_clf.fit(X_train, y_train)\n",
    "    predict_y = sig_clf.predict_proba(X_test)\n",
    "    log_error_array.append(log_loss(y_test, predict_y, labels=clf.classes_, eps=1e-15))\n",
    "    print('For values of alpha = ', i, \"The log loss is:\",log_loss(y_test, predict_y, labels=clf.classes_, eps=1e-15))\n",
    "\n",
    "fig, ax = plt.subplots()\n",
    "ax.plot(alpha, log_error_array,c='g')\n",
    "for i, txt in enumerate(np.round(log_error_array,3)):\n",
    "    ax.annotate((alpha[i],np.round(txt,3)), (alpha[i],log_error_array[i]))\n",
    "plt.grid()\n",
    "plt.title(\"Cross Validation Error for each alpha\")\n",
    "plt.xlabel(\"Alpha i's\")\n",
    "plt.ylabel(\"Error measure\")\n",
    "plt.show()"
   ]
  },
  {
   "cell_type": "code",
   "execution_count": null,
   "metadata": {
    "colab": {
     "base_uri": "https://localhost:8080/",
     "height": 346
    },
    "colab_type": "code",
    "executionInfo": {
     "elapsed": 4723618,
     "status": "ok",
     "timestamp": 1600613162792,
     "user": {
      "displayName": "Arun Mohan",
      "photoUrl": "",
      "userId": "03613179849735053887"
     },
     "user_tz": 0
    },
    "id": "drG3YasfXiZA",
    "outputId": "42a73679-6c51-4013-cf55-d25a204b84f3"
   },
   "outputs": [
    {
     "name": "stdout",
     "output_type": "stream",
     "text": [
      "For values of best alpha =  0.0001 The train log loss is: 0.48845546462164263\n",
      "For values of best alpha =  0.0001 The test log loss is: 0.5443965550252065\n",
      "Total number of data points : 30000\n"
     ]
    },
    {
     "data": {
      "image/png": "[encoded data removed]",
      "text/plain": [
       "<Figure size 1440x288 with 6 Axes>"
      ]
     },
     "metadata": {
      "needs_background": "light",
      "tags": []
     },
     "output_type": "display_data"
    }
   ],
   "source": [
    "best_alpha = np.argmin(log_error_array)\n",
    "clf = SGDClassifier(alpha=alpha[best_alpha], penalty='l2', loss='hinge', random_state=42)\n",
    "clf.fit(X_train, y_train)\n",
    "sig_clf = CalibratedClassifierCV(clf, method=\"sigmoid\")\n",
    "sig_clf.fit(X_train, y_train)\n",
    "\n",
    "predict_y = sig_clf.predict_proba(X_train)\n",
    "print('For values of best alpha = ', alpha[best_alpha], \"The train log loss is:\",log_loss(y_train, predict_y, labels=clf.classes_, eps=1e-15))\n",
    "predict_y = sig_clf.predict_proba(X_test)\n",
    "print('For values of best alpha = ', alpha[best_alpha], \"The test log loss is:\",log_loss(y_test, predict_y, labels=clf.classes_, eps=1e-15))\n",
    "predicted_y =np.argmax(predict_y,axis=1)\n",
    "print(\"Total number of data points :\", len(predicted_y))\n",
    "plot_confusion_matrix(y_test, predicted_y)"
   ]
  },
  {
   "cell_type": "markdown",
   "metadata": {
    "colab_type": "text",
    "id": "Q3feEkK6XxgV"
   },
   "source": [
    "## XGBoost"
   ]
  },
  {
   "cell_type": "code",
   "execution_count": null,
   "metadata": {
    "colab": {
     "base_uri": "https://localhost:8080/",
     "height": 51
    },
    "colab_type": "code",
    "executionInfo": {
     "elapsed": 5523487,
     "status": "ok",
     "timestamp": 1600613962734,
     "user": {
      "displayName": "Arun Mohan",
      "photoUrl": "",
      "userId": "03613179849735053887"
     },
     "user_tz": 0
    },
    "id": "3q_J_lrJXt0o",
    "outputId": "f3888774-89c4-4343-dfc3-ac555fe30f9c"
   },
   "outputs": [
    {
     "name": "stdout",
     "output_type": "stream",
     "text": [
      "Best score :  -0.5267292976532817\n",
      "Best Parameters {'n_estimators': 90, 'max_depth': 7, 'learning_rate': 0.2, 'gamma': 0}\n"
     ]
    }
   ],
   "source": [
    "\n",
    "import xgboost as xgb\n",
    "from sklearn.model_selection import RandomizedSearchCV\n",
    "\n",
    "params = {\n",
    "        'max_depth': [i for i in range(1,8,2)],\n",
    "        'n_estimators' : [i*10 for i in range(1, 10)],\n",
    "         'gamma': [0, 0.25, 0.5, 1.0],'learning_rate': [0.001, 0.01, 0.1, 0.2, 0,3]         \n",
    "        }\n",
    "xgboost_model = xgb.XGBClassifier(objective='binary:logistic', eval_metric='logloss',n_jobs=-1)\n",
    "\n",
    "xgb_search = RandomizedSearchCV(xgboost_model, param_distributions = params,n_iter=30,\n",
    "                         scoring = 'neg_log_loss', n_jobs = -1,cv=3)\n",
    "\n",
    "xgb_search.fit(X_train, y_train)\n",
    "\n",
    "print(\"Best score : \",xgb_search.best_score_)\n",
    "print(\"Best Parameters\",xgb_search.best_params_)"
   ]
  },
  {
   "cell_type": "code",
   "execution_count": null,
   "metadata": {
    "colab": {
     "base_uri": "https://localhost:8080/",
     "height": 329
    },
    "colab_type": "code",
    "executionInfo": {
     "elapsed": 5718143,
     "status": "ok",
     "timestamp": 1600614157523,
     "user": {
      "displayName": "Arun Mohan",
      "photoUrl": "",
      "userId": "03613179849735053887"
     },
     "user_tz": 0
    },
    "id": "Ex3NEU3bX020",
    "outputId": "fb831fdb-babc-4688-e106-44a9a6ce2086"
   },
   "outputs": [
    {
     "name": "stdout",
     "output_type": "stream",
     "text": [
      "Log loss for tfidf train data :  0.457118723862266\n",
      "Log loss for tfidf test data :  0.516786008483028\n"
     ]
    },
    {
     "data": {
      "image/png": "[encoded data removed]",
      "text/plain": [
       "<Figure size 1440x288 with 6 Axes>"
      ]
     },
     "metadata": {
      "needs_background": "light",
      "tags": []
     },
     "output_type": "display_data"
    }
   ],
   "source": [
    "clf = xgb.XGBClassifier(**xgb_search.best_params_,objective='binary:logistic', eval_metric='logloss',n_jobs=-1)\n",
    "clf.fit(X_train, y_train)   \n",
    "\n",
    "#log loss uses a exact prob score \n",
    "cal_clf = CalibratedClassifierCV(clf, method=\"sigmoid\")\n",
    "cal_clf.fit(X_train, y_train)\n",
    "\n",
    "predict_y = cal_clf.predict_proba(X_train)\n",
    "\n",
    "print(\"Log loss for tfidf train data : \",log_loss(y_train, predict_y,  eps=1e-15))\n",
    "predict_y = cal_clf.predict_proba(X_test)\n",
    "\n",
    "print(\"Log loss for tfidf test data : \",log_loss(y_test, predict_y,  eps=1e-15))\n",
    "predicted_y =np.argmax(predict_y,axis=1)\n",
    "plot_confusion_matrix(y_test, predicted_y)"
   ]
  },
  {
   "cell_type": "markdown",
   "metadata": {
    "colab_type": "text",
    "id": "cVIU1GILbB7L"
   },
   "source": [
    "# Conclusion"
   ]
  },
  {
   "cell_type": "code",
   "execution_count": 21,
   "metadata": {
    "colab": {
     "base_uri": "https://localhost:8080/",
     "height": 312
    },
    "colab_type": "code",
    "executionInfo": {
     "elapsed": 2995,
     "status": "ok",
     "timestamp": 1600620863988,
     "user": {
      "displayName": "Arun Mohan",
      "photoUrl": "",
      "userId": "03613179849735053887"
     },
     "user_tz": -330
    },
    "id": "__dpepxXsovW",
    "outputId": "2a0c81e6-ef34-4f3c-c44a-76d1507b1ff9"
   },
   "outputs": [
    {
     "name": "stdout",
     "output_type": "stream",
     "text": [
      "TF-IDF w2v\n",
      "+---------------------+------------+----------------+---------------+\n",
      "|       ML Model      | Vectorizer | Train log loss | Test log loss |\n",
      "+---------------------+------------+----------------+---------------+\n",
      "| Logistic Regression | TF-IDF w2v |     0.385      |     0.3942    |\n",
      "|      Linear SVM     | TF-IDF w2v |     0.387      |     0.395     |\n",
      "|       XGBoost       | TF-IDF w2v |     0.183      |     0.321     |\n",
      "+---------------------+------------+----------------+---------------+\n",
      "\n",
      " TF-IDF vec\n",
      "+---------------------+------------+----------------+---------------+\n",
      "|       ML Model      | Vectorizer | Train log loss | Test log loss |\n",
      "+---------------------+------------+----------------+---------------+\n",
      "| Logistic Regression |  TF-IDF    |     0.436      |     0.539     |\n",
      "|      Linear SVM     |  TF-IDF    |     0.488      |     0.544     |\n",
      "|       XGBoost       |  TF-IDF    |     0.457      |     0.516     |\n",
      "+---------------------+------------+----------------+---------------+\n"
     ]
    }
   ],
   "source": [
    "from prettytable import PrettyTable\n",
    "print(\"TF-IDF w2v\")\n",
    "x = PrettyTable()\n",
    "x.field_names = [\"ML Model\", \"Vectorizer\", \"Train log loss\", \"Test log loss\"]\n",
    "\n",
    "x.add_row([\"Logistic Regression\",'TF-IDF w2v', 0.385, 0.3942])\n",
    "x.add_row([\"Linear SVM\", 'TF-IDF w2v', 0.387, 0.395])\n",
    "x.add_row([\"XGBoost\", 'TF-IDF w2v', 0.183,0.321])\n",
    "print(x)\n",
    "\n",
    "\n",
    "print(\"\\n TF-IDF vec\")\n",
    "x = PrettyTable()\n",
    "x.field_names = [\"ML Model\", \"Vectorizer\", \"Train log loss\", \"Test log loss\"]\n",
    "\n",
    "x.add_row([\"Logistic Regression\",'TF-IDF ', 0.436,0.539])\n",
    "x.add_row([\"Linear SVM\", 'TF-IDF ',0.488,0.544 ])\n",
    "x.add_row([\"XGBoost\", 'TF-IDF ', 0.457,0.516])\n",
    "print(x)"
   ]
  },
  {
   "cell_type": "markdown",
   "metadata": {
    "colab": {},
    "colab_type": "code",
    "id": "5_tPG51YcBQk"
   },
   "source": [
    "## Summary:\n",
    "\n",
    "- For TF-IDF w2v the XGBoost model performs way better than Logistic regression and linear SVM\n"
   ]
  },
  {
   "cell_type": "code",
   "execution_count": null,
   "metadata": {},
   "outputs": [],
   "source": []
  }
 ],
 "metadata": {
  "colab": {
   "authorship_tag": "ABX9TyOwixVRhXvWXTxIXSalUFam",
   "name": "part3_ML models.ipynb",
   "provenance": []
  },
  "kernelspec": {
   "display_name": "Python 3 (ipykernel)",
   "language": "python",
   "name": "python3"
  },
  "language_info": {
   "codemirror_mode": {
    "name": "ipython",
    "version": 3
   },
   "file_extension": ".py",
   "mimetype": "text/x-python",
   "name": "python",
   "nbconvert_exporter": "python",
   "pygments_lexer": "ipython3",
   "version": "3.9.7"
  }
 },
 "nbformat": 4,
 "nbformat_minor": 1
}
