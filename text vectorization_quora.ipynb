{
 "cells": [
  {
   "cell_type": "code",
   "execution_count": 16,
   "metadata": {
    "colab": {},
    "colab_type": "code",
    "executionInfo": {
     "elapsed": 1028,
     "status": "ok",
     "timestamp": 1600602421249,
     "user": {
      "displayName": "Arun Mohan",
      "photoUrl": "",
      "userId": "03613179849735053887"
     },
     "user_tz": -330
    },
    "id": "YOL2kAt5g0mo"
   },
   "outputs": [],
   "source": [
    "import pandas as pd\n",
    "import matplotlib.pyplot as plt\n",
    "import re\n",
    "import time\n",
    "import warnings\n",
    "import numpy as np\n",
    "from nltk.corpus import stopwords\n",
    "from sklearn.preprocessing import normalize\n",
    "from sklearn.feature_extraction.text import CountVectorizer\n",
    "from sklearn.feature_extraction.text import TfidfVectorizer\n",
    "warnings.filterwarnings(\"ignore\")\n",
    "import sys\n",
    "from scipy.sparse import hstack\n",
    "import os , pickle\n",
    "from sklearn.model_selection import train_test_split\n",
    "import pandas as pd\n",
    "import numpy as np\n",
    "from tqdm import tqdm\n",
    "\n",
    "import spacy"
   ]
  },
  {
   "cell_type": "code",
   "execution_count": 6,
   "metadata": {
    "colab": {
     "base_uri": "https://localhost:8080/",
     "height": 341
    },
    "colab_type": "code",
    "executionInfo": {
     "elapsed": 4668,
     "status": "ok",
     "timestamp": 1600602307208,
     "user": {
      "displayName": "Arun Mohan",
      "photoUrl": "",
      "userId": "03613179849735053887"
     },
     "user_tz": -330
    },
    "id": "JgRtdCu0oAaN",
    "outputId": "4b47bdb1-2f22-46e4-a772-e7ac177aae46"
   },
   "outputs": [
    {
     "name": "stdout",
     "output_type": "stream",
     "text": [
      "(404287, 32)\n"
     ]
    },
    {
     "data": {
      "text/html": [
       "<div>\n",
       "<style scoped>\n",
       "    .dataframe tbody tr th:only-of-type {\n",
       "        vertical-align: middle;\n",
       "    }\n",
       "\n",
       "    .dataframe tbody tr th {\n",
       "        vertical-align: top;\n",
       "    }\n",
       "\n",
       "    .dataframe thead th {\n",
       "        text-align: right;\n",
       "    }\n",
       "</style>\n",
       "<table border=\"1\" class=\"dataframe\">\n",
       "  <thead>\n",
       "    <tr style=\"text-align: right;\">\n",
       "      <th></th>\n",
       "      <th>id</th>\n",
       "      <th>qid1</th>\n",
       "      <th>qid2</th>\n",
       "      <th>question1</th>\n",
       "      <th>question2</th>\n",
       "      <th>is_duplicate</th>\n",
       "      <th>freq_qid1</th>\n",
       "      <th>freq_qid2</th>\n",
       "      <th>q1len</th>\n",
       "      <th>q2len</th>\n",
       "      <th>q1_n_words</th>\n",
       "      <th>q2_n_words</th>\n",
       "      <th>word_common</th>\n",
       "      <th>word_total</th>\n",
       "      <th>word_share</th>\n",
       "      <th>freq_q1+q2</th>\n",
       "      <th>freq_q1-q2</th>\n",
       "      <th>cwc_min</th>\n",
       "      <th>cwc_max</th>\n",
       "      <th>csc_min</th>\n",
       "      <th>csc_max</th>\n",
       "      <th>ctc_min</th>\n",
       "      <th>ctc_max</th>\n",
       "      <th>last_word_eq</th>\n",
       "      <th>first_word_eq</th>\n",
       "      <th>abs_len_diff</th>\n",
       "      <th>mean_len</th>\n",
       "      <th>token_set_ratio</th>\n",
       "      <th>token_sort_ratio</th>\n",
       "      <th>fuzz_ratio</th>\n",
       "      <th>fuzz_partial_ratio</th>\n",
       "      <th>longest_substr_ratio</th>\n",
       "    </tr>\n",
       "  </thead>\n",
       "  <tbody>\n",
       "    <tr>\n",
       "      <th>0</th>\n",
       "      <td>0</td>\n",
       "      <td>1</td>\n",
       "      <td>2</td>\n",
       "      <td>what is the step by step guide to invest in sh...</td>\n",
       "      <td>what is the step by step guide to invest in sh...</td>\n",
       "      <td>0</td>\n",
       "      <td>1</td>\n",
       "      <td>1</td>\n",
       "      <td>66</td>\n",
       "      <td>57</td>\n",
       "      <td>14</td>\n",
       "      <td>12</td>\n",
       "      <td>10.0</td>\n",
       "      <td>23.0</td>\n",
       "      <td>0.434783</td>\n",
       "      <td>2</td>\n",
       "      <td>0</td>\n",
       "      <td>0.999980</td>\n",
       "      <td>0.833319</td>\n",
       "      <td>0.999983</td>\n",
       "      <td>0.999983</td>\n",
       "      <td>0.916659</td>\n",
       "      <td>0.785709</td>\n",
       "      <td>0.0</td>\n",
       "      <td>1.0</td>\n",
       "      <td>2.0</td>\n",
       "      <td>13.0</td>\n",
       "      <td>100</td>\n",
       "      <td>93</td>\n",
       "      <td>93</td>\n",
       "      <td>100</td>\n",
       "      <td>0.982759</td>\n",
       "    </tr>\n",
       "    <tr>\n",
       "      <th>1</th>\n",
       "      <td>1</td>\n",
       "      <td>3</td>\n",
       "      <td>4</td>\n",
       "      <td>what is the story of kohinoor  koh i noor  dia...</td>\n",
       "      <td>what would happen if the indian government sto...</td>\n",
       "      <td>0</td>\n",
       "      <td>4</td>\n",
       "      <td>2</td>\n",
       "      <td>51</td>\n",
       "      <td>88</td>\n",
       "      <td>8</td>\n",
       "      <td>13</td>\n",
       "      <td>4.0</td>\n",
       "      <td>20.0</td>\n",
       "      <td>0.200000</td>\n",
       "      <td>6</td>\n",
       "      <td>2</td>\n",
       "      <td>0.799984</td>\n",
       "      <td>0.399996</td>\n",
       "      <td>0.749981</td>\n",
       "      <td>0.599988</td>\n",
       "      <td>0.699993</td>\n",
       "      <td>0.466664</td>\n",
       "      <td>0.0</td>\n",
       "      <td>1.0</td>\n",
       "      <td>5.0</td>\n",
       "      <td>12.5</td>\n",
       "      <td>86</td>\n",
       "      <td>63</td>\n",
       "      <td>66</td>\n",
       "      <td>75</td>\n",
       "      <td>0.596154</td>\n",
       "    </tr>\n",
       "  </tbody>\n",
       "</table>\n",
       "</div>"
      ],
      "text/plain": [
       "   id  qid1  qid2  ... fuzz_ratio fuzz_partial_ratio  longest_substr_ratio\n",
       "0   0     1     2  ...         93                100              0.982759\n",
       "1   1     3     4  ...         66                 75              0.596154\n",
       "\n",
       "[2 rows x 32 columns]"
      ]
     },
     "execution_count": 6,
     "metadata": {
      "tags": []
     },
     "output_type": "execute_result"
    }
   ],
   "source": [
    "df = pd.read_csv(\"data/data_with_preprocess_2.csv\")\n",
    "df['question1'] = df['question1'].apply(lambda x: str(x))\n",
    "df['question2'] = df['question2'].apply(lambda x: str(x))\n",
    "print(df.shape)\n",
    "df.head(2)"
   ]
  },
  {
   "cell_type": "markdown",
   "metadata": {
    "colab_type": "text",
    "id": "9uFlrL-2OgH6"
   },
   "source": [
    "### For the ease of computation we will sample only 100k points"
   ]
  },
  {
   "cell_type": "code",
   "execution_count": 7,
   "metadata": {
    "colab": {},
    "colab_type": "code",
    "executionInfo": {
     "elapsed": 3822,
     "status": "ok",
     "timestamp": 1600602307210,
     "user": {
      "displayName": "Arun Mohan",
      "photoUrl": "",
      "userId": "03613179849735053887"
     },
     "user_tz": -330
    },
    "id": "YOTKfsyLOmQc"
   },
   "outputs": [],
   "source": [
    "#sampling 100k\n",
    "df = df.sample(n=100000,random_state=40)"
   ]
  },
  {
   "cell_type": "code",
   "execution_count": 8,
   "metadata": {
    "colab": {},
    "colab_type": "code",
    "executionInfo": {
     "elapsed": 10953,
     "status": "ok",
     "timestamp": 1600602314769,
     "user": {
      "displayName": "Arun Mohan",
      "photoUrl": "",
      "userId": "03613179849735053887"
     },
     "user_tz": -330
    },
    "id": "Dipj16yooIHc"
   },
   "outputs": [],
   "source": [
    "#changing columns to numeric type\n",
    "num_cols = df.drop(columns=['id', 'qid1', 'qid2', 'question1', 'question2']).columns\n",
    "for i in num_cols:\n",
    "    df[i] = df[i].apply(pd.to_numeric)"
   ]
  },
  {
   "cell_type": "code",
   "execution_count": 9,
   "metadata": {
    "colab": {
     "base_uri": "https://localhost:8080/",
     "height": 52
    },
    "colab_type": "code",
    "executionInfo": {
     "elapsed": 9650,
     "status": "ok",
     "timestamp": 1600602314771,
     "user": {
      "displayName": "Arun Mohan",
      "photoUrl": "",
      "userId": "03613179849735053887"
     },
     "user_tz": -330
    },
    "id": "GEQ1-vQyxxeE",
    "outputId": "9f6eaf59-801c-4fea-d896-adc8fd73286c"
   },
   "outputs": [
    {
     "name": "stdout",
     "output_type": "stream",
     "text": [
      "(100000, 28)\n",
      "(100000,)\n"
     ]
    }
   ],
   "source": [
    "y = df['is_duplicate']\n",
    "X = df[df.drop(columns=['id', 'qid1', 'qid2','is_duplicate']).columns.tolist()]\n",
    "print(X.shape)\n",
    "print(y.shape)"
   ]
  },
  {
   "cell_type": "markdown",
   "metadata": {
    "colab_type": "text",
    "id": "-SqXczHkziFY"
   },
   "source": [
    "# Train test split"
   ]
  },
  {
   "cell_type": "code",
   "execution_count": 10,
   "metadata": {
    "colab": {
     "base_uri": "https://localhost:8080/",
     "height": 52
    },
    "colab_type": "code",
    "executionInfo": {
     "elapsed": 7422,
     "status": "ok",
     "timestamp": 1600602314772,
     "user": {
      "displayName": "Arun Mohan",
      "photoUrl": "",
      "userId": "03613179849735053887"
     },
     "user_tz": -330
    },
    "id": "sNoWm1Mzxxgf",
    "outputId": "7c336f49-b3f2-4264-c097-a253980833c0"
   },
   "outputs": [
    {
     "name": "stdout",
     "output_type": "stream",
     "text": [
      "Number of data points in train data : (70000, 28)\n",
      "Number of data points in test data : (30000, 28)\n"
     ]
    }
   ],
   "source": [
    "X_train,X_test, y_train, y_test = train_test_split(X, y, stratify=y, test_size=0.3,random_state=100)\n",
    "print(\"Number of data points in train data :\",X_train.shape)\n",
    "print(\"Number of data points in test data :\",X_test.shape)"
   ]
  },
  {
   "cell_type": "markdown",
   "metadata": {
    "colab_type": "text",
    "id": "J46pBEdI0IZz"
   },
   "source": [
    "# Handling text data\n",
    "\n",
    "We have already cleaned the text data. Now we have to vectorize it. We mainly used 2 approached.\n",
    "\n",
    "1. TFIDF\n",
    "2. TFIDF weighted glove vectorization"
   ]
  },
  {
   "cell_type": "markdown",
   "metadata": {
    "colab_type": "text",
    "id": "RSLAr7Xu7mcC"
   },
   "source": [
    "## TFIDF"
   ]
  },
  {
   "cell_type": "code",
   "execution_count": 11,
   "metadata": {
    "colab": {
     "base_uri": "https://localhost:8080/",
     "height": 52
    },
    "colab_type": "code",
    "executionInfo": {
     "elapsed": 6347,
     "status": "ok",
     "timestamp": 1600602316418,
     "user": {
      "displayName": "Arun Mohan",
      "photoUrl": "",
      "userId": "03613179849735053887"
     },
     "user_tz": -330
    },
    "id": "bgtJ4B7mxxlQ",
    "outputId": "c4b472e7-c2f0-4d21-9cf3-240c145428bb"
   },
   "outputs": [
    {
     "name": "stdout",
     "output_type": "stream",
     "text": [
      "(70000, 20000)\n",
      "(30000, 20000)\n"
     ]
    }
   ],
   "source": [
    "tfidf_vectorizer1 = TfidfVectorizer(lowercase=False,max_features= 20000)\n",
    "trainqs1_tfidf = tfidf_vectorizer1.fit_transform(X_train['question1'])\n",
    "testqs1_tfidf  = tfidf_vectorizer1.transform(X_test['question1'])\n",
    "print(trainqs1_tfidf.shape)\n",
    "print(testqs1_tfidf.shape)"
   ]
  },
  {
   "cell_type": "code",
   "execution_count": 12,
   "metadata": {
    "colab": {
     "base_uri": "https://localhost:8080/",
     "height": 52
    },
    "colab_type": "code",
    "executionInfo": {
     "elapsed": 2354,
     "status": "ok",
     "timestamp": 1600602320708,
     "user": {
      "displayName": "Arun Mohan",
      "photoUrl": "",
      "userId": "03613179849735053887"
     },
     "user_tz": -330
    },
    "id": "44Agja_D1WMS",
    "outputId": "04f0db92-63c6-437c-a0ae-12d2dd53d2ec"
   },
   "outputs": [
    {
     "name": "stdout",
     "output_type": "stream",
     "text": [
      "(70000, 20000)\n",
      "(30000, 20000)\n"
     ]
    }
   ],
   "source": [
    "tfidf_vectorizer2 = TfidfVectorizer(lowercase=False,max_features= 20000)\n",
    "train_qs2_tfidf = tfidf_vectorizer2.fit_transform(X_train['question2'])\n",
    "test_qs2_tfidf  = tfidf_vectorizer2.transform(X_test['question2'])\n",
    "print(train_qs2_tfidf.shape)\n",
    "print(test_qs2_tfidf.shape)"
   ]
  },
  {
   "cell_type": "code",
   "execution_count": 17,
   "metadata": {
    "colab": {
     "base_uri": "https://localhost:8080/",
     "height": 52
    },
    "colab_type": "code",
    "executionInfo": {
     "elapsed": 1273,
     "status": "ok",
     "timestamp": 1600602440304,
     "user": {
      "displayName": "Arun Mohan",
      "photoUrl": "",
      "userId": "03613179849735053887"
     },
     "user_tz": -330
    },
    "id": "uchgfq-41WPC",
    "outputId": "42fbdd38-5830-4a6e-c89b-282bf171f52d"
   },
   "outputs": [
    {
     "name": "stdout",
     "output_type": "stream",
     "text": [
      "train data shape (70000, 40000)\n",
      "Test data shape  (30000, 40000)\n"
     ]
    }
   ],
   "source": [
    "#Now we will hstack both the vectors\n",
    "tfidf_train_vec = hstack((trainqs1_tfidf,train_qs2_tfidf))\n",
    "tfidf_test_vec = hstack((testqs1_tfidf,test_qs2_tfidf)) \n",
    "print(\"train data shape\",tfidf_train_vec.shape)\n",
    "print(\"Test data shape \",tfidf_test_vec.shape)"
   ]
  },
  {
   "cell_type": "code",
   "execution_count": 18,
   "metadata": {
    "colab": {},
    "colab_type": "code",
    "executionInfo": {
     "elapsed": 1032,
     "status": "ok",
     "timestamp": 1600602463097,
     "user": {
      "displayName": "Arun Mohan",
      "photoUrl": "",
      "userId": "03613179849735053887"
     },
     "user_tz": -330
    },
    "id": "oNccrY75NVq-"
   },
   "outputs": [],
   "source": [
    "# selecting other features\n",
    "train_df = X_train.drop(columns=['question1', 'question2'])\n",
    "test_df = X_test.drop(columns=['question1', 'question2'])"
   ]
  },
  {
   "cell_type": "code",
   "execution_count": 19,
   "metadata": {
    "colab": {},
    "colab_type": "code",
    "executionInfo": {
     "elapsed": 1008,
     "status": "ok",
     "timestamp": 1600602465356,
     "user": {
      "displayName": "Arun Mohan",
      "photoUrl": "",
      "userId": "03613179849735053887"
     },
     "user_tz": -330
    },
    "id": "e3DrKOJKNPkA"
   },
   "outputs": [],
   "source": [
    "#we need to convert our data with features into sparse matrix so that we can combine our feature matrix and and tfidf vectors \n",
    "import scipy\n",
    "train_sparse = scipy.sparse.csr_matrix(train_df)\n",
    "test_sparse = scipy.sparse.csr_matrix(test_df)"
   ]
  },
  {
   "cell_type": "code",
   "execution_count": 20,
   "metadata": {
    "colab": {
     "base_uri": "https://localhost:8080/",
     "height": 52
    },
    "colab_type": "code",
    "executionInfo": {
     "elapsed": 1249,
     "status": "ok",
     "timestamp": 1600602471030,
     "user": {
      "displayName": "Arun Mohan",
      "photoUrl": "",
      "userId": "03613179849735053887"
     },
     "user_tz": -330
    },
    "id": "ALXiOwJDN933",
    "outputId": "e12d753f-a7c8-4000-faaa-f1704d902d71"
   },
   "outputs": [
    {
     "name": "stdout",
     "output_type": "stream",
     "text": [
      "train data shape (70000, 40026)\n",
      "Test data shape  (30000, 40026)\n"
     ]
    }
   ],
   "source": [
    "# Now combining our tfidf and features into one \n",
    "tfidf_X_tr = hstack((train_sparse,tfidf_train_vec))\n",
    "tfidf_X_test = hstack((test_sparse,tfidf_test_vec))\n",
    "print(\"train data shape\",tfidf_X_tr.shape)\n",
    "print(\"Test data shape \",tfidf_X_test.shape)"
   ]
  },
  {
   "cell_type": "code",
   "execution_count": 21,
   "metadata": {
    "colab": {},
    "colab_type": "code",
    "executionInfo": {
     "elapsed": 1034,
     "status": "ok",
     "timestamp": 1600602504055,
     "user": {
      "displayName": "Arun Mohan",
      "photoUrl": "",
      "userId": "03613179849735053887"
     },
     "user_tz": -330
    },
    "id": "YViuYAyx1WRx"
   },
   "outputs": [],
   "source": [
    "#saving tfidf vectors\n",
    "pickle.dump(tfidf_train_vec, open(\"data/tfidf_X_tr\",\"wb\"))\n",
    "pickle.dump(tfidf_test_vec, open(\"data/tfidf_X_test\",\"wb\"))"
   ]
  },
  {
   "cell_type": "markdown",
   "metadata": {
    "colab_type": "text",
    "id": "fFY3gV_aOSiB"
   },
   "source": [
    "## TFIDF Weighted Glove Vectors"
   ]
  },
  {
   "cell_type": "code",
   "execution_count": null,
   "metadata": {
    "colab": {},
    "colab_type": "code",
    "id": "FGdHtrmy1WUT"
   },
   "outputs": [],
   "source": [
    "# use spacy embedding\n",
    "# run this from a normal command line\n",
    "# !python -m spacy download en_core_web_md"
   ]
  },
  {
   "cell_type": "code",
   "execution_count": null,
   "metadata": {
    "colab": {},
    "colab_type": "code",
    "id": "--0S9J7eTSMx"
   },
   "outputs": [],
   "source": [
    "# merge texts\n",
    "questions = list(X_train['question1']) + list(X_train['question2'])\n",
    "tfidf = TfidfVectorizer(lowercase=False)\n",
    "tfidf.fit_transform(questions)\n",
    "\n",
    "# dict key:word and value:tf-idf score\n",
    "word2tfidf = dict(zip(tfidf.get_feature_names(), tfidf.idf_))"
   ]
  },
  {
   "cell_type": "code",
   "execution_count": null,
   "metadata": {
    "colab": {
     "base_uri": "https://localhost:8080/",
     "height": 34
    },
    "colab_type": "code",
    "executionInfo": {
     "elapsed": 12420,
     "status": "ok",
     "timestamp": 1600575636723,
     "user": {
      "displayName": "Arun Mohan",
      "photoUrl": "",
      "userId": "03613179849735053887"
     },
     "user_tz": 0
    },
    "id": "AqubIYfaxxcK",
    "outputId": "9148d604-97c1-4b0f-c273-b5833d46c826"
   },
   "outputs": [
    {
     "data": {
      "text/plain": [
       "(96,)"
      ]
     },
     "execution_count": 19,
     "metadata": {
      "tags": []
     },
     "output_type": "execute_result"
    }
   ],
   "source": [
    "# Load the spacy model that you have installed\n",
    "import en_core_web_sm\n",
    "nlp = en_core_web_sm.load()\n",
    "\n",
    "# each vector will be of length 94..\n",
    "doc = nlp(\"This is some text that I am processing with Spacy\")\n",
    "#example\n",
    "doc[3].vector.shape"
   ]
  },
  {
   "cell_type": "code",
   "execution_count": null,
   "metadata": {
    "colab": {
     "base_uri": "https://localhost:8080/",
     "height": 34
    },
    "colab_type": "code",
    "executionInfo": {
     "elapsed": 762647,
     "status": "ok",
     "timestamp": 1600576387170,
     "user": {
      "displayName": "Arun Mohan",
      "photoUrl": "",
      "userId": "03613179849735053887"
     },
     "user_tz": 0
    },
    "id": "9oAMND6hoILl",
    "outputId": "a0bde842-3559-4356-c649-37cc6cd4bf40"
   },
   "outputs": [
    {
     "name": "stderr",
     "output_type": "stream",
     "text": [
      "100%|██████████| 70000/70000 [12:29<00:00, 93.37it/s]\n"
     ]
    }
   ],
   "source": [
    "nlp = spacy.load('en_core_web_sm')\n",
    "\n",
    "vecs1 = []\n",
    "# https://github.com/noamraph/tqdm\n",
    "# tqdm is used to print the progress bar\n",
    "for qu1 in tqdm(list(X_train['question1'])):\n",
    "    doc1 = nlp(qu1) \n",
    "    # 384 is the number of dimensions of vectors \n",
    "    mean_vec1 = np.zeros([len(doc1), 96])\n",
    "    for i,word1 in enumerate(doc1):\n",
    "        # word2vec\n",
    "        vec1 = word1.vector\n",
    "        # fetch df score\n",
    "        try:\n",
    "            idf = word2tfidf[str(word1)]\n",
    "        except:\n",
    "            idf = 0\n",
    "        # compute final vec\n",
    "        mean_vec1[i] += vec1 * idf\n",
    "    mean_vec1 = mean_vec1.mean(axis=0)\n",
    "    vecs1.append(mean_vec1)\n",
    "\n",
    "X_train_glove_q1 = vecs1"
   ]
  },
  {
   "cell_type": "code",
   "execution_count": null,
   "metadata": {
    "colab": {
     "base_uri": "https://localhost:8080/",
     "height": 34
    },
    "colab_type": "code",
    "executionInfo": {
     "elapsed": 1519691,
     "status": "ok",
     "timestamp": 1600577144435,
     "user": {
      "displayName": "Arun Mohan",
      "photoUrl": "",
      "userId": "03613179849735053887"
     },
     "user_tz": 0
    },
    "id": "oifb1YFcQHHn",
    "outputId": "567ba7da-f373-4f12-ac28-1845568a31c6"
   },
   "outputs": [
    {
     "name": "stderr",
     "output_type": "stream",
     "text": [
      "100%|██████████| 70000/70000 [12:36<00:00, 92.53it/s]\n"
     ]
    }
   ],
   "source": [
    "nlp = spacy.load('en_core_web_sm')\n",
    "\n",
    "vecs1 = []\n",
    "# https://github.com/noamraph/tqdm\n",
    "# tqdm is used to print the progress bar\n",
    "for qu1 in tqdm(list(X_train['question2'])):\n",
    "    doc1 = nlp(qu1) \n",
    "    # 384 is the number of dimensions of vectors \n",
    "    mean_vec1 = np.zeros([len(doc1), 96])\n",
    "    for i,word1 in enumerate(doc1):\n",
    "        # word2vec\n",
    "        vec1 = word1.vector\n",
    "        # fetch df score\n",
    "        try:\n",
    "            idf = word2tfidf[str(word1)]\n",
    "        except:\n",
    "            idf = 0\n",
    "        # compute final vec\n",
    "        mean_vec1[i] += vec1 * idf\n",
    "    mean_vec1 = mean_vec1.mean(axis=0)\n",
    "    vecs1.append(mean_vec1)\n",
    "\n",
    "X_train_glove_q2 = vecs1"
   ]
  },
  {
   "cell_type": "code",
   "execution_count": null,
   "metadata": {
    "colab": {
     "base_uri": "https://localhost:8080/",
     "height": 34
    },
    "colab_type": "code",
    "executionInfo": {
     "elapsed": 1843790,
     "status": "ok",
     "timestamp": 1600577468761,
     "user": {
      "displayName": "Arun Mohan",
      "photoUrl": "",
      "userId": "03613179849735053887"
     },
     "user_tz": 0
    },
    "id": "dV-8PIYNT-no",
    "outputId": "46a7fe75-30e4-437f-9329-7e26d478fe10"
   },
   "outputs": [
    {
     "name": "stderr",
     "output_type": "stream",
     "text": [
      "100%|██████████| 30000/30000 [05:23<00:00, 92.71it/s]\n"
     ]
    }
   ],
   "source": [
    "nlp = spacy.load('en_core_web_sm')\n",
    "\n",
    "vecs1 = []\n",
    "# https://github.com/noamraph/tqdm\n",
    "# tqdm is used to print the progress bar\n",
    "for qu1 in tqdm(list(X_test['question1'])):\n",
    "    doc1 = nlp(qu1) \n",
    "    # 384 is the number of dimensions of vectors \n",
    "    mean_vec1 = np.zeros([len(doc1), 96])\n",
    "    for i,word1 in enumerate(doc1):\n",
    "        # word2vec\n",
    "        vec1 = word1.vector\n",
    "        # fetch df score\n",
    "        try:\n",
    "            idf = word2tfidf[str(word1)]\n",
    "        except:\n",
    "            idf = 0\n",
    "        # compute final vec\n",
    "        mean_vec1[i] += vec1 * idf\n",
    "    mean_vec1 = mean_vec1.mean(axis=0)\n",
    "    vecs1.append(mean_vec1)\n",
    "\n",
    "X_test_glove_q1 = vecs1"
   ]
  },
  {
   "cell_type": "code",
   "execution_count": null,
   "metadata": {
    "colab": {
     "base_uri": "https://localhost:8080/",
     "height": 34
    },
    "colab_type": "code",
    "executionInfo": {
     "elapsed": 2164593,
     "status": "ok",
     "timestamp": 1600577789842,
     "user": {
      "displayName": "Arun Mohan",
      "photoUrl": "",
      "userId": "03613179849735053887"
     },
     "user_tz": 0
    },
    "id": "QUG-AGFTT-0A",
    "outputId": "eefd4b4c-3c45-4342-cb4f-df0a326008a3"
   },
   "outputs": [
    {
     "name": "stderr",
     "output_type": "stream",
     "text": [
      "100%|██████████| 30000/30000 [05:20<00:00, 93.64it/s]\n"
     ]
    }
   ],
   "source": [
    "nlp = spacy.load('en_core_web_sm')\n",
    "\n",
    "vecs1 = []\n",
    "# https://github.com/noamraph/tqdm\n",
    "# tqdm is used to print the progress bar\n",
    "for qu1 in tqdm(list(X_test['question2'])):\n",
    "    doc1 = nlp(qu1) \n",
    "    # 384 is the number of dimensions of vectors \n",
    "    mean_vec1 = np.zeros([len(doc1), 96])\n",
    "    for i,word1 in enumerate(doc1):\n",
    "        # word2vec\n",
    "        vec1 = word1.vector\n",
    "        # fetch df score\n",
    "        try:\n",
    "            idf = word2tfidf[str(word1)]\n",
    "        except:\n",
    "            idf = 0\n",
    "        # compute final vec\n",
    "        mean_vec1[i] += vec1 * idf\n",
    "    mean_vec1 = mean_vec1.mean(axis=0)\n",
    "    vecs1.append(mean_vec1)\n",
    "\n",
    "X_test_glove_q2 = vecs1"
   ]
  },
  {
   "cell_type": "code",
   "execution_count": null,
   "metadata": {
    "colab": {},
    "colab_type": "code",
    "id": "-lcSuVHDUkAM"
   },
   "outputs": [],
   "source": [
    "X_train['q1_glove'] = X_train_glove_q1\n",
    "X_train['q2_glove'] = X_train_glove_q2\n",
    "X_test['q1_glove'] = X_test_glove_q1\n",
    "X_test['q2_glove'] = X_test_glove_q2"
   ]
  },
  {
   "cell_type": "code",
   "execution_count": null,
   "metadata": {
    "colab": {
     "base_uri": "https://localhost:8080/",
     "height": 34
    },
    "colab_type": "code",
    "executionInfo": {
     "elapsed": 474,
     "status": "ok",
     "timestamp": 1600580925270,
     "user": {
      "displayName": "Arun Mohan",
      "photoUrl": "",
      "userId": "03613179849735053887"
     },
     "user_tz": 0
    },
    "id": "hLKC0f2WCB33",
    "outputId": "092afa70-5af7-44cb-b8f0-2ce1e81dc665"
   },
   "outputs": [
    {
     "data": {
      "text/plain": [
       "(70000, 192)"
      ]
     },
     "execution_count": 33,
     "metadata": {
      "tags": []
     },
     "output_type": "execute_result"
    }
   ],
   "source": [
    "train_glove = np.concatenate([np.array(X_train_glove_q1),np.array(X_train_glove_q2)],axis=1)\n",
    "test_glove = np.concatenate([np.array(X_test_glove_q1),np.array(X_test_glove_q2)],axis=1)\n",
    "train_glove.shape"
   ]
  },
  {
   "cell_type": "code",
   "execution_count": null,
   "metadata": {
    "colab": {
     "base_uri": "https://localhost:8080/",
     "height": 253
    },
    "colab_type": "code",
    "executionInfo": {
     "elapsed": 298,
     "status": "ok",
     "timestamp": 1600580926434,
     "user": {
      "displayName": "Arun Mohan",
      "photoUrl": "",
      "userId": "03613179849735053887"
     },
     "user_tz": 0
    },
    "id": "xYfLzU5XCCJV",
    "outputId": "2acc69c4-457b-4742-f1cc-4612dafb9acc"
   },
   "outputs": [
    {
     "data": {
      "text/html": [
       "<div>\n",
       "<style scoped>\n",
       "    .dataframe tbody tr th:only-of-type {\n",
       "        vertical-align: middle;\n",
       "    }\n",
       "\n",
       "    .dataframe tbody tr th {\n",
       "        vertical-align: top;\n",
       "    }\n",
       "\n",
       "    .dataframe thead th {\n",
       "        text-align: right;\n",
       "    }\n",
       "</style>\n",
       "<table border=\"1\" class=\"dataframe\">\n",
       "  <thead>\n",
       "    <tr style=\"text-align: right;\">\n",
       "      <th></th>\n",
       "      <th>g_0</th>\n",
       "      <th>g_1</th>\n",
       "      <th>g_2</th>\n",
       "      <th>g_3</th>\n",
       "      <th>g_4</th>\n",
       "      <th>g_5</th>\n",
       "      <th>g_6</th>\n",
       "      <th>g_7</th>\n",
       "      <th>g_8</th>\n",
       "      <th>g_9</th>\n",
       "      <th>g_10</th>\n",
       "      <th>g_11</th>\n",
       "      <th>g_12</th>\n",
       "      <th>g_13</th>\n",
       "      <th>g_14</th>\n",
       "      <th>g_15</th>\n",
       "      <th>g_16</th>\n",
       "      <th>g_17</th>\n",
       "      <th>g_18</th>\n",
       "      <th>g_19</th>\n",
       "      <th>g_20</th>\n",
       "      <th>g_21</th>\n",
       "      <th>g_22</th>\n",
       "      <th>g_23</th>\n",
       "      <th>g_24</th>\n",
       "      <th>g_25</th>\n",
       "      <th>g_26</th>\n",
       "      <th>g_27</th>\n",
       "      <th>g_28</th>\n",
       "      <th>g_29</th>\n",
       "      <th>g_30</th>\n",
       "      <th>g_31</th>\n",
       "      <th>g_32</th>\n",
       "      <th>g_33</th>\n",
       "      <th>g_34</th>\n",
       "      <th>g_35</th>\n",
       "      <th>g_36</th>\n",
       "      <th>g_37</th>\n",
       "      <th>g_38</th>\n",
       "      <th>g_39</th>\n",
       "      <th>...</th>\n",
       "      <th>g_152</th>\n",
       "      <th>g_153</th>\n",
       "      <th>g_154</th>\n",
       "      <th>g_155</th>\n",
       "      <th>g_156</th>\n",
       "      <th>g_157</th>\n",
       "      <th>g_158</th>\n",
       "      <th>g_159</th>\n",
       "      <th>g_160</th>\n",
       "      <th>g_161</th>\n",
       "      <th>g_162</th>\n",
       "      <th>g_163</th>\n",
       "      <th>g_164</th>\n",
       "      <th>g_165</th>\n",
       "      <th>g_166</th>\n",
       "      <th>g_167</th>\n",
       "      <th>g_168</th>\n",
       "      <th>g_169</th>\n",
       "      <th>g_170</th>\n",
       "      <th>g_171</th>\n",
       "      <th>g_172</th>\n",
       "      <th>g_173</th>\n",
       "      <th>g_174</th>\n",
       "      <th>g_175</th>\n",
       "      <th>g_176</th>\n",
       "      <th>g_177</th>\n",
       "      <th>g_178</th>\n",
       "      <th>g_179</th>\n",
       "      <th>g_180</th>\n",
       "      <th>g_181</th>\n",
       "      <th>g_182</th>\n",
       "      <th>g_183</th>\n",
       "      <th>g_184</th>\n",
       "      <th>g_185</th>\n",
       "      <th>g_186</th>\n",
       "      <th>g_187</th>\n",
       "      <th>g_188</th>\n",
       "      <th>g_189</th>\n",
       "      <th>g_190</th>\n",
       "      <th>g_191</th>\n",
       "    </tr>\n",
       "  </thead>\n",
       "  <tbody>\n",
       "    <tr>\n",
       "      <th>0</th>\n",
       "      <td>8.620377</td>\n",
       "      <td>-1.614727</td>\n",
       "      <td>-2.521583</td>\n",
       "      <td>-1.531998</td>\n",
       "      <td>2.092236</td>\n",
       "      <td>0.767564</td>\n",
       "      <td>5.339287</td>\n",
       "      <td>3.058473</td>\n",
       "      <td>10.082106</td>\n",
       "      <td>11.054510</td>\n",
       "      <td>-3.507912</td>\n",
       "      <td>-3.432895</td>\n",
       "      <td>-0.067182</td>\n",
       "      <td>-10.681097</td>\n",
       "      <td>1.089850</td>\n",
       "      <td>1.484099</td>\n",
       "      <td>-8.216730</td>\n",
       "      <td>4.523411</td>\n",
       "      <td>-0.183961</td>\n",
       "      <td>-3.073451</td>\n",
       "      <td>7.041418</td>\n",
       "      <td>4.111737</td>\n",
       "      <td>-5.499477</td>\n",
       "      <td>2.947024</td>\n",
       "      <td>-2.201095</td>\n",
       "      <td>-2.657204</td>\n",
       "      <td>0.895537</td>\n",
       "      <td>-2.326320</td>\n",
       "      <td>10.550176</td>\n",
       "      <td>-6.367206</td>\n",
       "      <td>4.771478</td>\n",
       "      <td>4.998177</td>\n",
       "      <td>0.459032</td>\n",
       "      <td>-3.968120</td>\n",
       "      <td>1.873935</td>\n",
       "      <td>-0.680668</td>\n",
       "      <td>4.821114</td>\n",
       "      <td>-9.623053</td>\n",
       "      <td>-10.167518</td>\n",
       "      <td>-2.572175</td>\n",
       "      <td>...</td>\n",
       "      <td>10.089836</td>\n",
       "      <td>3.936834</td>\n",
       "      <td>-5.538895</td>\n",
       "      <td>5.563270</td>\n",
       "      <td>8.331845</td>\n",
       "      <td>-7.516664</td>\n",
       "      <td>4.947571</td>\n",
       "      <td>0.551604</td>\n",
       "      <td>2.226217</td>\n",
       "      <td>-5.257148</td>\n",
       "      <td>4.661740</td>\n",
       "      <td>-4.827672</td>\n",
       "      <td>-2.469894</td>\n",
       "      <td>-2.716766</td>\n",
       "      <td>-4.011982</td>\n",
       "      <td>-1.669388</td>\n",
       "      <td>2.131926</td>\n",
       "      <td>-1.406734</td>\n",
       "      <td>-1.637095</td>\n",
       "      <td>0.843460</td>\n",
       "      <td>9.596346</td>\n",
       "      <td>-8.810573</td>\n",
       "      <td>-0.189235</td>\n",
       "      <td>0.185671</td>\n",
       "      <td>-0.870233</td>\n",
       "      <td>-8.293420</td>\n",
       "      <td>-5.647267</td>\n",
       "      <td>5.515711</td>\n",
       "      <td>3.732003</td>\n",
       "      <td>-7.587928</td>\n",
       "      <td>-2.701354</td>\n",
       "      <td>2.716441</td>\n",
       "      <td>-0.510052</td>\n",
       "      <td>6.447781</td>\n",
       "      <td>-2.949746</td>\n",
       "      <td>-0.962468</td>\n",
       "      <td>2.531881</td>\n",
       "      <td>6.010862</td>\n",
       "      <td>1.527958</td>\n",
       "      <td>1.486945</td>\n",
       "    </tr>\n",
       "    <tr>\n",
       "      <th>1</th>\n",
       "      <td>-0.976643</td>\n",
       "      <td>-2.725152</td>\n",
       "      <td>2.448420</td>\n",
       "      <td>-6.019244</td>\n",
       "      <td>10.633596</td>\n",
       "      <td>-0.612285</td>\n",
       "      <td>2.808925</td>\n",
       "      <td>2.506091</td>\n",
       "      <td>3.439625</td>\n",
       "      <td>2.748850</td>\n",
       "      <td>-2.935436</td>\n",
       "      <td>5.436929</td>\n",
       "      <td>-2.523156</td>\n",
       "      <td>6.865408</td>\n",
       "      <td>-9.358973</td>\n",
       "      <td>-8.060454</td>\n",
       "      <td>-4.945397</td>\n",
       "      <td>0.764525</td>\n",
       "      <td>2.253675</td>\n",
       "      <td>-4.320681</td>\n",
       "      <td>9.260277</td>\n",
       "      <td>-4.847854</td>\n",
       "      <td>-8.376614</td>\n",
       "      <td>-1.336396</td>\n",
       "      <td>6.339169</td>\n",
       "      <td>4.441661</td>\n",
       "      <td>-9.057021</td>\n",
       "      <td>-1.587038</td>\n",
       "      <td>-2.049387</td>\n",
       "      <td>2.388804</td>\n",
       "      <td>0.912349</td>\n",
       "      <td>-4.281859</td>\n",
       "      <td>-5.025249</td>\n",
       "      <td>-8.493344</td>\n",
       "      <td>-3.309496</td>\n",
       "      <td>-6.918417</td>\n",
       "      <td>6.168914</td>\n",
       "      <td>0.979653</td>\n",
       "      <td>-4.349751</td>\n",
       "      <td>4.501580</td>\n",
       "      <td>...</td>\n",
       "      <td>4.418640</td>\n",
       "      <td>3.693307</td>\n",
       "      <td>1.570967</td>\n",
       "      <td>5.141033</td>\n",
       "      <td>10.051354</td>\n",
       "      <td>2.914478</td>\n",
       "      <td>3.694912</td>\n",
       "      <td>1.172728</td>\n",
       "      <td>2.013224</td>\n",
       "      <td>-3.563407</td>\n",
       "      <td>4.454383</td>\n",
       "      <td>-6.441067</td>\n",
       "      <td>2.158532</td>\n",
       "      <td>-0.239046</td>\n",
       "      <td>-6.496768</td>\n",
       "      <td>-3.577290</td>\n",
       "      <td>5.334235</td>\n",
       "      <td>0.750009</td>\n",
       "      <td>3.977217</td>\n",
       "      <td>-3.131306</td>\n",
       "      <td>6.806299</td>\n",
       "      <td>-5.550982</td>\n",
       "      <td>-5.664017</td>\n",
       "      <td>-4.400164</td>\n",
       "      <td>-1.581056</td>\n",
       "      <td>3.991659</td>\n",
       "      <td>1.210462</td>\n",
       "      <td>0.192518</td>\n",
       "      <td>3.626633</td>\n",
       "      <td>-2.551011</td>\n",
       "      <td>3.914964</td>\n",
       "      <td>0.328768</td>\n",
       "      <td>-2.454020</td>\n",
       "      <td>0.270393</td>\n",
       "      <td>-9.784351</td>\n",
       "      <td>-0.421203</td>\n",
       "      <td>2.982829</td>\n",
       "      <td>3.221098</td>\n",
       "      <td>-0.517070</td>\n",
       "      <td>7.156083</td>\n",
       "    </tr>\n",
       "    <tr>\n",
       "      <th>2</th>\n",
       "      <td>1.364633</td>\n",
       "      <td>-0.612766</td>\n",
       "      <td>-0.917767</td>\n",
       "      <td>4.277427</td>\n",
       "      <td>10.759067</td>\n",
       "      <td>7.220730</td>\n",
       "      <td>2.623590</td>\n",
       "      <td>2.577329</td>\n",
       "      <td>10.591618</td>\n",
       "      <td>13.758568</td>\n",
       "      <td>-0.620000</td>\n",
       "      <td>2.298428</td>\n",
       "      <td>-1.027227</td>\n",
       "      <td>-4.799027</td>\n",
       "      <td>-6.977420</td>\n",
       "      <td>-5.083170</td>\n",
       "      <td>-4.422765</td>\n",
       "      <td>3.306546</td>\n",
       "      <td>0.305656</td>\n",
       "      <td>-3.580782</td>\n",
       "      <td>3.979730</td>\n",
       "      <td>2.748984</td>\n",
       "      <td>0.035068</td>\n",
       "      <td>-2.376505</td>\n",
       "      <td>-1.092440</td>\n",
       "      <td>-1.779144</td>\n",
       "      <td>-5.030781</td>\n",
       "      <td>-1.390374</td>\n",
       "      <td>6.533338</td>\n",
       "      <td>-7.121969</td>\n",
       "      <td>3.819638</td>\n",
       "      <td>0.446124</td>\n",
       "      <td>-4.847996</td>\n",
       "      <td>-6.796444</td>\n",
       "      <td>1.181442</td>\n",
       "      <td>-3.438956</td>\n",
       "      <td>7.560942</td>\n",
       "      <td>-2.222238</td>\n",
       "      <td>-3.024427</td>\n",
       "      <td>-2.711820</td>\n",
       "      <td>...</td>\n",
       "      <td>5.248811</td>\n",
       "      <td>7.349653</td>\n",
       "      <td>-5.088327</td>\n",
       "      <td>5.053706</td>\n",
       "      <td>7.250805</td>\n",
       "      <td>0.519352</td>\n",
       "      <td>1.788629</td>\n",
       "      <td>0.233627</td>\n",
       "      <td>7.627815</td>\n",
       "      <td>-0.252892</td>\n",
       "      <td>11.181622</td>\n",
       "      <td>-7.246195</td>\n",
       "      <td>-1.489986</td>\n",
       "      <td>3.130861</td>\n",
       "      <td>-1.450135</td>\n",
       "      <td>-1.716376</td>\n",
       "      <td>7.907278</td>\n",
       "      <td>0.924074</td>\n",
       "      <td>-4.189400</td>\n",
       "      <td>-1.036867</td>\n",
       "      <td>6.969816</td>\n",
       "      <td>-9.251938</td>\n",
       "      <td>-0.795776</td>\n",
       "      <td>-0.299615</td>\n",
       "      <td>1.590454</td>\n",
       "      <td>-3.170906</td>\n",
       "      <td>-1.801627</td>\n",
       "      <td>0.208262</td>\n",
       "      <td>5.480814</td>\n",
       "      <td>-4.081170</td>\n",
       "      <td>-2.047053</td>\n",
       "      <td>-4.732654</td>\n",
       "      <td>-0.826601</td>\n",
       "      <td>6.169578</td>\n",
       "      <td>0.445108</td>\n",
       "      <td>-2.095889</td>\n",
       "      <td>4.520428</td>\n",
       "      <td>-1.048259</td>\n",
       "      <td>0.624426</td>\n",
       "      <td>6.458432</td>\n",
       "    </tr>\n",
       "    <tr>\n",
       "      <th>3</th>\n",
       "      <td>-5.402827</td>\n",
       "      <td>-1.453848</td>\n",
       "      <td>-3.300925</td>\n",
       "      <td>0.197813</td>\n",
       "      <td>1.619330</td>\n",
       "      <td>6.634061</td>\n",
       "      <td>1.017171</td>\n",
       "      <td>3.348628</td>\n",
       "      <td>1.350459</td>\n",
       "      <td>7.710702</td>\n",
       "      <td>-0.812362</td>\n",
       "      <td>-2.839082</td>\n",
       "      <td>-0.612610</td>\n",
       "      <td>-3.448848</td>\n",
       "      <td>-3.432873</td>\n",
       "      <td>-4.079187</td>\n",
       "      <td>-4.631437</td>\n",
       "      <td>-3.651631</td>\n",
       "      <td>-2.905281</td>\n",
       "      <td>1.757382</td>\n",
       "      <td>0.787178</td>\n",
       "      <td>0.162580</td>\n",
       "      <td>-2.535501</td>\n",
       "      <td>0.747244</td>\n",
       "      <td>-6.131663</td>\n",
       "      <td>9.827620</td>\n",
       "      <td>-1.258223</td>\n",
       "      <td>-5.423268</td>\n",
       "      <td>3.623700</td>\n",
       "      <td>-5.403328</td>\n",
       "      <td>3.619214</td>\n",
       "      <td>1.019382</td>\n",
       "      <td>0.074535</td>\n",
       "      <td>-7.099874</td>\n",
       "      <td>5.484165</td>\n",
       "      <td>-8.244230</td>\n",
       "      <td>5.117587</td>\n",
       "      <td>-1.878740</td>\n",
       "      <td>0.161722</td>\n",
       "      <td>-1.652342</td>\n",
       "      <td>...</td>\n",
       "      <td>2.966553</td>\n",
       "      <td>-1.523681</td>\n",
       "      <td>-1.829854</td>\n",
       "      <td>0.401545</td>\n",
       "      <td>1.645285</td>\n",
       "      <td>0.385318</td>\n",
       "      <td>7.061065</td>\n",
       "      <td>2.890736</td>\n",
       "      <td>1.050386</td>\n",
       "      <td>-3.336407</td>\n",
       "      <td>3.785180</td>\n",
       "      <td>-1.681050</td>\n",
       "      <td>-4.781838</td>\n",
       "      <td>2.129497</td>\n",
       "      <td>-1.009500</td>\n",
       "      <td>-3.689642</td>\n",
       "      <td>9.070033</td>\n",
       "      <td>5.875521</td>\n",
       "      <td>-2.148875</td>\n",
       "      <td>5.076125</td>\n",
       "      <td>8.545730</td>\n",
       "      <td>-5.828086</td>\n",
       "      <td>1.726607</td>\n",
       "      <td>-3.110130</td>\n",
       "      <td>-5.750603</td>\n",
       "      <td>-4.205308</td>\n",
       "      <td>-2.504673</td>\n",
       "      <td>5.086736</td>\n",
       "      <td>-2.342566</td>\n",
       "      <td>2.261608</td>\n",
       "      <td>-0.772201</td>\n",
       "      <td>1.317268</td>\n",
       "      <td>-5.662102</td>\n",
       "      <td>1.054329</td>\n",
       "      <td>-6.430517</td>\n",
       "      <td>-1.770199</td>\n",
       "      <td>-3.266285</td>\n",
       "      <td>1.832004</td>\n",
       "      <td>6.204855</td>\n",
       "      <td>4.190380</td>\n",
       "    </tr>\n",
       "    <tr>\n",
       "      <th>4</th>\n",
       "      <td>6.240948</td>\n",
       "      <td>-0.342004</td>\n",
       "      <td>0.272171</td>\n",
       "      <td>7.702876</td>\n",
       "      <td>3.548724</td>\n",
       "      <td>2.831506</td>\n",
       "      <td>9.050959</td>\n",
       "      <td>0.379950</td>\n",
       "      <td>8.114947</td>\n",
       "      <td>9.188508</td>\n",
       "      <td>-4.671504</td>\n",
       "      <td>1.200732</td>\n",
       "      <td>-5.432051</td>\n",
       "      <td>-10.548737</td>\n",
       "      <td>3.059980</td>\n",
       "      <td>-2.545802</td>\n",
       "      <td>-5.528193</td>\n",
       "      <td>-0.109835</td>\n",
       "      <td>-1.450191</td>\n",
       "      <td>-2.646301</td>\n",
       "      <td>6.511831</td>\n",
       "      <td>2.406859</td>\n",
       "      <td>-4.246453</td>\n",
       "      <td>-3.384232</td>\n",
       "      <td>-10.368488</td>\n",
       "      <td>1.443597</td>\n",
       "      <td>-5.060623</td>\n",
       "      <td>-1.779779</td>\n",
       "      <td>13.546983</td>\n",
       "      <td>-7.345306</td>\n",
       "      <td>9.435891</td>\n",
       "      <td>3.356754</td>\n",
       "      <td>0.303414</td>\n",
       "      <td>-5.911453</td>\n",
       "      <td>-0.803014</td>\n",
       "      <td>-8.052808</td>\n",
       "      <td>6.501953</td>\n",
       "      <td>-4.829181</td>\n",
       "      <td>-12.968770</td>\n",
       "      <td>-2.577738</td>\n",
       "      <td>...</td>\n",
       "      <td>2.730393</td>\n",
       "      <td>4.662781</td>\n",
       "      <td>-0.690090</td>\n",
       "      <td>2.061311</td>\n",
       "      <td>11.836681</td>\n",
       "      <td>1.818767</td>\n",
       "      <td>6.683187</td>\n",
       "      <td>3.406210</td>\n",
       "      <td>2.515244</td>\n",
       "      <td>-1.900384</td>\n",
       "      <td>6.867739</td>\n",
       "      <td>-7.587519</td>\n",
       "      <td>-1.230329</td>\n",
       "      <td>4.734106</td>\n",
       "      <td>-0.372573</td>\n",
       "      <td>-6.656595</td>\n",
       "      <td>3.070535</td>\n",
       "      <td>-0.184626</td>\n",
       "      <td>-2.353856</td>\n",
       "      <td>-0.784568</td>\n",
       "      <td>3.734440</td>\n",
       "      <td>-9.668799</td>\n",
       "      <td>-1.473442</td>\n",
       "      <td>-3.065060</td>\n",
       "      <td>-0.751881</td>\n",
       "      <td>3.627949</td>\n",
       "      <td>-5.079347</td>\n",
       "      <td>1.189592</td>\n",
       "      <td>5.002939</td>\n",
       "      <td>-0.516425</td>\n",
       "      <td>-2.429725</td>\n",
       "      <td>0.942915</td>\n",
       "      <td>-4.174390</td>\n",
       "      <td>8.085426</td>\n",
       "      <td>0.507519</td>\n",
       "      <td>-9.277117</td>\n",
       "      <td>4.342348</td>\n",
       "      <td>1.404644</td>\n",
       "      <td>5.940545</td>\n",
       "      <td>5.478593</td>\n",
       "    </tr>\n",
       "  </tbody>\n",
       "</table>\n",
       "<p>5 rows × 192 columns</p>\n",
       "</div>"
      ],
      "text/plain": [
       "        g_0       g_1       g_2  ...     g_189     g_190     g_191\n",
       "0  8.620377 -1.614727 -2.521583  ...  6.010862  1.527958  1.486945\n",
       "1 -0.976643 -2.725152  2.448420  ...  3.221098 -0.517070  7.156083\n",
       "2  1.364633 -0.612766 -0.917767  ... -1.048259  0.624426  6.458432\n",
       "3 -5.402827 -1.453848 -3.300925  ...  1.832004  6.204855  4.190380\n",
       "4  6.240948 -0.342004  0.272171  ...  1.404644  5.940545  5.478593\n",
       "\n",
       "[5 rows x 192 columns]"
      ]
     },
     "execution_count": 34,
     "metadata": {
      "tags": []
     },
     "output_type": "execute_result"
    }
   ],
   "source": [
    "glove_train_df = pd.DataFrame(train_glove,columns=[f'g_{i}' for i in range(train_glove.shape[1])])\n",
    "glove_test_df = pd.DataFrame(test_glove,columns=[f'g_{i}' for i in range(test_glove.shape[1])])\n",
    "glove_train_df.head()"
   ]
  },
  {
   "cell_type": "code",
   "execution_count": null,
   "metadata": {
    "colab": {
     "base_uri": "https://localhost:8080/",
     "height": 51
    },
    "colab_type": "code",
    "executionInfo": {
     "elapsed": 302,
     "status": "ok",
     "timestamp": 1600581172968,
     "user": {
      "displayName": "Arun Mohan",
      "photoUrl": "",
      "userId": "03613179849735053887"
     },
     "user_tz": 0
    },
    "id": "G4-y829YDs6b",
    "outputId": "5c37ae55-85b8-45d2-d779-aa8ca1196ff7"
   },
   "outputs": [
    {
     "name": "stdout",
     "output_type": "stream",
     "text": [
      "(70000, 28)\n",
      "(30000, 28)\n"
     ]
    }
   ],
   "source": [
    "\n",
    "X_train = X_train.drop(columns=['question1','question2']).reset_index(drop=True)\n",
    "X_test = X_test.drop(columns=['question1','question2']).reset_index(drop=True)\n",
    "print(X_train.shape)\n",
    "print(X_test.shape)"
   ]
  },
  {
   "cell_type": "code",
   "execution_count": null,
   "metadata": {
    "colab": {
     "base_uri": "https://localhost:8080/",
     "height": 51
    },
    "colab_type": "code",
    "executionInfo": {
     "elapsed": 572,
     "status": "ok",
     "timestamp": 1600581295940,
     "user": {
      "displayName": "Arun Mohan",
      "photoUrl": "",
      "userId": "03613179849735053887"
     },
     "user_tz": 0
    },
    "id": "yXNcO3VtEpht",
    "outputId": "0164a799-a18f-4586-e952-3593b524e41d"
   },
   "outputs": [
    {
     "name": "stdout",
     "output_type": "stream",
     "text": [
      "(70000, 220)\n",
      "(30000, 220)\n"
     ]
    }
   ],
   "source": [
    "# concatenating\n",
    "X_train_d = pd.concat([X_train,glove_train_df],axis=1)\n",
    "X_test_d = pd.concat([X_test,glove_test_df],axis=1)\n",
    "print(X_train_d.shape)\n",
    "print(X_test_d.shape)"
   ]
  },
  {
   "cell_type": "code",
   "execution_count": null,
   "metadata": {
    "colab": {},
    "colab_type": "code",
    "id": "Cxo7wUfeUjQm"
   },
   "outputs": [],
   "source": [
    "X_train_d.to_csv('data/train_data.csv',index=False)\n",
    "X_test_d.to_csv('data/test_data.csv',index=False)"
   ]
  },
  {
   "cell_type": "code",
   "execution_count": null,
   "metadata": {
    "colab": {},
    "colab_type": "code",
    "id": "sgSY2POJW6MQ"
   },
   "outputs": [],
   "source": [
    "y_train.to_csv('data/train_y.csv',index=False)\n",
    "y_test.to_csv('data/test_y.csv',index=False)"
   ]
  }
 ],
 "metadata": {
  "colab": {
   "authorship_tag": "ABX9TyN/sY6x9WVVmItYwj40O3z9",
   "collapsed_sections": [],
   "name": "part2- text vectorization.ipynb",
   "provenance": []
  },
  "kernelspec": {
   "display_name": "Python 3 (ipykernel)",
   "language": "python",
   "name": "python3"
  },
  "language_info": {
   "codemirror_mode": {
    "name": "ipython",
    "version": 3
   },
   "file_extension": ".py",
   "mimetype": "text/x-python",
   "name": "python",
   "nbconvert_exporter": "python",
   "pygments_lexer": "ipython3",
   "version": "3.9.7"
  }
 },
 "nbformat": 4,
 "nbformat_minor": 1
}
